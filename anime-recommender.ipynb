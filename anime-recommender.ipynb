{
 "cells": [
  {
   "cell_type": "markdown",
   "metadata": {},
   "source": [
    "# Anime Recommendation System - Naufal Hadi Darmawan"
   ]
  },
  {
   "cell_type": "markdown",
   "metadata": {},
   "source": [
    "## Project Domain\n",
    "### Background Problem\n",
    "Anime has gained immense global popularity in recent years, with thousands of titles across various genres, formats, and demographics. However, due to the sheer volume of content, users often find it challenging to discover new anime that aligns with their preferences. Traditional methods like manual searches or general recommendations often fail to capture individual tastes, leading to a suboptimal viewing experience.\n",
    "### Why and How Should This Problem be Solved?\n",
    "A personalized recommendation system can bridge the gap by leveraging user preferences and anime attributes to provide tailored suggestions. By analyzing historical user data and anime metadata, such a system can enhance user satisfaction and engagement. Machine learning techniques, particularly content-based and collaborative filtering algorithms, can be employed to develop a robust recommendation system.\n",
    "### Research Findings\n",
    "Studies have demonstrated the effectiveness of recommendation systems in improving user satisfaction and interaction in entertainment platforms. Popular approaches include collaborative filtering, which leverages user interaction data, and content-based filtering, which relies on the attributes of items.\n",
    "Link: \n",
    "- https://iopscience.iop.org/article/10.1088/1742-6596/1566/1/012057\n",
    "- https://www.ijfmr.com/papers/2023/2/2372.pdf"
   ]
  },
  {
   "cell_type": "markdown",
   "metadata": {},
   "source": [
    "## Business Understanding\n",
    "### Problem Statements\n",
    "- How can we help users discover anime that matches their preferences more effectively?\n",
    "- How can we leverage anime metadata and user behavior data to create accurate recommendations?\n",
    "### Goals\n",
    "- Develop a content-based recommendation algorithm that analyzes anime attributes to suggest similar titles. The algorithm aims to achieve a precision of at least 90% precision, ensuring relevant and satisfying recommendations based on anime content.\n",
    "\n",
    "- Build a collaborative filtering algorithm that utilizes user ratings and preferences to recommend anime. The algorithm targets a mean absolute error (MAE) below 0.8, guaranteeing personalized and accurate recommendations for users while minimizing prediction errors in user satisfaction.\n",
    "\n",
    "### Solution Statements\n",
    "- Content-Based Algorithm  \n",
    "Leverages anime metadata such as genres, studios, scores, etc to recommend titles similar to those a user has enjoyed.\n",
    "\n",
    "- Collaborative Filtering Algorithm  \n",
    "Uses user interaction data, such as ratings, to identify patterns and recommend titles based on the preferences of similar users."
   ]
  },
  {
   "cell_type": "markdown",
   "metadata": {},
   "source": [
    "## Data Understanding\n",
    "### Dataset Overview\n",
    "#### Anime Metadata Dataset\n",
    "The dataset offers valuable information for analyzing and comprehending the characteristics, ratings, popularity, and viewership of various anime shows.  \n",
    "- anime_id: Unique ID for each anime.\n",
    "- Name: The name of the anime in its original language.\n",
    "- English name: The English name of the anime.\n",
    "- Other name: Native name or title of the anime(can be in Japanese, Chinese or Korean).\n",
    "- Score: The score or rating given to the anime.\n",
    "- Genres: The genres of the anime, separated by commas.\n",
    "- Synopsis: A brief description or summary of the anime's plot.\n",
    "- Type: The type of the anime (e.g., TV series, movie, OVA, etc.).\n",
    "- Episodes: The number of episodes in the anime.\n",
    "- Aired: The dates when the anime was aired.\n",
    "- Premiered: The season and year when the anime premiered.\n",
    "- Status: The status of the anime (e.g., Finished Airing, Currently Airing, etc.).\n",
    "- Producers: The production companies or producers of the anime.\n",
    "- Licensors: The licensors of the anime (e.g., streaming platforms).\n",
    "- Studios: The animation studios that worked on the anime.\n",
    "- Source: The source material of the anime (e.g., manga, light novel, original).\n",
    "- Duration: The duration of each episode.\n",
    "- Rating: The age rating of the anime.\n",
    "- Rank: The rank of the anime based on popularity or other criteria.\n",
    "- Popularity: The popularity rank of the anime.\n",
    "- Favorites: The number of times the anime was marked as a favorite by users.\n",
    "- Scored By: The number of users who scored the anime.\n",
    "- Members: The number of members who have added the anime to their list on the platform.\n",
    "- Image URL: The URL of the anime's image or poster.\n",
    "\n",
    "- **Number of Rows**: 24905 \n",
    "- **Number of Columns**: 24\n",
    "#### User Ratings Dataset\n",
    "The User Score Dataset enables various analyses and insights into user interactions with anime. By examining user ratings for different anime titles, you can identify highly-rated and popular anime among users. Additionally, you can explore user preferences and watch patterns for specific anime titles. This dataset also forms the foundation for building recommendation systems based on user ratings, helping to suggest anime that align with individual tastes.  \n",
    "- user_id: Unique ID for each user.\n",
    "- Username: The username of the user.\n",
    "- anime_id: Unique ID for each anime.\n",
    "- Anime Title: The title of the anime.\n",
    "- rating: The rating given by the user to the anime.\n",
    "\n",
    "- Number of Rows: 24325191\n",
    "- Number of Columns: 5\n",
    "### Data Condition\n",
    "The dataset is relatively clean, with the exception of a few data quality issues. The 'Score' column, which should be numeric, contained non-numeric values like 'unknown'. These values were replaced with 0 and the column was converted to numeric. The 'Genres' column, originally a single string of genres, was transformed into a list of genres for more efficient analysis."
   ]
  },
  {
   "cell_type": "markdown",
   "metadata": {},
   "source": [
    "### Exploratory Data Analysis"
   ]
  },
  {
   "cell_type": "markdown",
   "metadata": {},
   "source": [
    "In this section, I will conduct a comprehensive Exploratory Data Analysis (EDA) to gain valuable insights into the dataset."
   ]
  },
  {
   "cell_type": "code",
   "execution_count": 1,
   "metadata": {
    "execution": {
     "iopub.execute_input": "2024-12-18T02:36:28.227535Z",
     "iopub.status.busy": "2024-12-18T02:36:28.227216Z",
     "iopub.status.idle": "2024-12-18T02:36:42.117460Z",
     "shell.execute_reply": "2024-12-18T02:36:42.116723Z",
     "shell.execute_reply.started": "2024-12-18T02:36:28.227505Z"
    },
    "trusted": true
   },
   "outputs": [],
   "source": [
    "# import all libraries\n",
    "import pandas as pd\n",
    "import numpy as np\n",
    "import matplotlib.pyplot as plt\n",
    "import seaborn as sns\n",
    "from sklearn.feature_extraction.text import TfidfVectorizer\n",
    "from sklearn.preprocessing import OneHotEncoder, StandardScaler\n",
    "from sklearn.metrics.pairwise import cosine_similarity\n",
    "from scipy.sparse import hstack\n",
    "import tensorflow as tf\n",
    "from tensorflow.keras.models import Sequential\n",
    "from tensorflow.keras.layers import Dense, Dropout, Embedding, Flatten\n"
   ]
  },
  {
   "cell_type": "markdown",
   "metadata": {},
   "source": [
    "#### Data Loading"
   ]
  },
  {
   "cell_type": "markdown",
   "metadata": {},
   "source": [
    "I will load the dataset into a suitable data structure, such as a Pandas DataFrame, ensuring it is accessible for analysis."
   ]
  },
  {
   "cell_type": "code",
   "execution_count": 2,
   "metadata": {
    "execution": {
     "iopub.execute_input": "2024-12-18T02:36:42.119442Z",
     "iopub.status.busy": "2024-12-18T02:36:42.118931Z",
     "iopub.status.idle": "2024-12-18T02:37:09.918885Z",
     "shell.execute_reply": "2024-12-18T02:37:09.917950Z",
     "shell.execute_reply.started": "2024-12-18T02:36:42.119409Z"
    },
    "trusted": true
   },
   "outputs": [
    {
     "name": "stdout",
     "output_type": "stream",
     "text": [
      "Anime Dataset:\n",
      "Rows and Columns: (24905, 24)\n",
      "\n",
      "User Rating Dataset:\n",
      "Rows and Columns: (24325191, 5)\n"
     ]
    }
   ],
   "source": [
    "anime = pd.read_csv('/kaggle/input/myanimelist-dataset/anime-dataset-2023.csv')\n",
    "user_rating = pd.read_csv('/kaggle/input/myanimelist-dataset/users-score-2023.csv')\n",
    "\n",
    "# Check the number of rows and columns for the anime dataset\n",
    "print(\"Anime Dataset:\")\n",
    "print(f\"Rows and Columns: {anime.shape}\")\n",
    "\n",
    "# Check the number of rows and columns for the user rating dataset\n",
    "print(\"\\nUser Rating Dataset:\")\n",
    "print(f\"Rows and Columns: {user_rating.shape}\")\n"
   ]
  },
  {
   "cell_type": "code",
   "execution_count": 3,
   "metadata": {
    "execution": {
     "iopub.execute_input": "2024-12-18T02:37:09.920852Z",
     "iopub.status.busy": "2024-12-18T02:37:09.920140Z",
     "iopub.status.idle": "2024-12-18T02:37:09.952728Z",
     "shell.execute_reply": "2024-12-18T02:37:09.951886Z",
     "shell.execute_reply.started": "2024-12-18T02:37:09.920811Z"
    },
    "trusted": true
   },
   "outputs": [
    {
     "name": "stdout",
     "output_type": "stream",
     "text": [
      "Anime Dataset\n"
     ]
    },
    {
     "data": {
      "text/html": [
       "<div>\n",
       "<style scoped>\n",
       "    .dataframe tbody tr th:only-of-type {\n",
       "        vertical-align: middle;\n",
       "    }\n",
       "\n",
       "    .dataframe tbody tr th {\n",
       "        vertical-align: top;\n",
       "    }\n",
       "\n",
       "    .dataframe thead th {\n",
       "        text-align: right;\n",
       "    }\n",
       "</style>\n",
       "<table border=\"1\" class=\"dataframe\">\n",
       "  <thead>\n",
       "    <tr style=\"text-align: right;\">\n",
       "      <th></th>\n",
       "      <th>anime_id</th>\n",
       "      <th>Name</th>\n",
       "      <th>English name</th>\n",
       "      <th>Other name</th>\n",
       "      <th>Score</th>\n",
       "      <th>Genres</th>\n",
       "      <th>Synopsis</th>\n",
       "      <th>Type</th>\n",
       "      <th>Episodes</th>\n",
       "      <th>Aired</th>\n",
       "      <th>...</th>\n",
       "      <th>Studios</th>\n",
       "      <th>Source</th>\n",
       "      <th>Duration</th>\n",
       "      <th>Rating</th>\n",
       "      <th>Rank</th>\n",
       "      <th>Popularity</th>\n",
       "      <th>Favorites</th>\n",
       "      <th>Scored By</th>\n",
       "      <th>Members</th>\n",
       "      <th>Image URL</th>\n",
       "    </tr>\n",
       "  </thead>\n",
       "  <tbody>\n",
       "    <tr>\n",
       "      <th>0</th>\n",
       "      <td>1</td>\n",
       "      <td>Cowboy Bebop</td>\n",
       "      <td>Cowboy Bebop</td>\n",
       "      <td>カウボーイビバップ</td>\n",
       "      <td>8.75</td>\n",
       "      <td>Action, Award Winning, Sci-Fi</td>\n",
       "      <td>Crime is timeless. By the year 2071, humanity ...</td>\n",
       "      <td>TV</td>\n",
       "      <td>26.0</td>\n",
       "      <td>Apr 3, 1998 to Apr 24, 1999</td>\n",
       "      <td>...</td>\n",
       "      <td>Sunrise</td>\n",
       "      <td>Original</td>\n",
       "      <td>24 min per ep</td>\n",
       "      <td>R - 17+ (violence &amp; profanity)</td>\n",
       "      <td>41.0</td>\n",
       "      <td>43</td>\n",
       "      <td>78525</td>\n",
       "      <td>914193.0</td>\n",
       "      <td>1771505</td>\n",
       "      <td>https://cdn.myanimelist.net/images/anime/4/196...</td>\n",
       "    </tr>\n",
       "    <tr>\n",
       "      <th>1</th>\n",
       "      <td>5</td>\n",
       "      <td>Cowboy Bebop: Tengoku no Tobira</td>\n",
       "      <td>Cowboy Bebop: The Movie</td>\n",
       "      <td>カウボーイビバップ 天国の扉</td>\n",
       "      <td>8.38</td>\n",
       "      <td>Action, Sci-Fi</td>\n",
       "      <td>Another day, another bounty—such is the life o...</td>\n",
       "      <td>Movie</td>\n",
       "      <td>1.0</td>\n",
       "      <td>Sep 1, 2001</td>\n",
       "      <td>...</td>\n",
       "      <td>Bones</td>\n",
       "      <td>Original</td>\n",
       "      <td>1 hr 55 min</td>\n",
       "      <td>R - 17+ (violence &amp; profanity)</td>\n",
       "      <td>189.0</td>\n",
       "      <td>602</td>\n",
       "      <td>1448</td>\n",
       "      <td>206248.0</td>\n",
       "      <td>360978</td>\n",
       "      <td>https://cdn.myanimelist.net/images/anime/1439/...</td>\n",
       "    </tr>\n",
       "    <tr>\n",
       "      <th>2</th>\n",
       "      <td>6</td>\n",
       "      <td>Trigun</td>\n",
       "      <td>Trigun</td>\n",
       "      <td>トライガン</td>\n",
       "      <td>8.22</td>\n",
       "      <td>Action, Adventure, Sci-Fi</td>\n",
       "      <td>Vash the Stampede is the man with a $$60,000,0...</td>\n",
       "      <td>TV</td>\n",
       "      <td>26.0</td>\n",
       "      <td>Apr 1, 1998 to Sep 30, 1998</td>\n",
       "      <td>...</td>\n",
       "      <td>Madhouse</td>\n",
       "      <td>Manga</td>\n",
       "      <td>24 min per ep</td>\n",
       "      <td>PG-13 - Teens 13 or older</td>\n",
       "      <td>328.0</td>\n",
       "      <td>246</td>\n",
       "      <td>15035</td>\n",
       "      <td>356739.0</td>\n",
       "      <td>727252</td>\n",
       "      <td>https://cdn.myanimelist.net/images/anime/7/203...</td>\n",
       "    </tr>\n",
       "    <tr>\n",
       "      <th>3</th>\n",
       "      <td>7</td>\n",
       "      <td>Witch Hunter Robin</td>\n",
       "      <td>Witch Hunter Robin</td>\n",
       "      <td>Witch Hunter ROBIN (ウイッチハンターロビン)</td>\n",
       "      <td>7.25</td>\n",
       "      <td>Action, Drama, Mystery, Supernatural</td>\n",
       "      <td>Robin Sena is a powerful craft user drafted in...</td>\n",
       "      <td>TV</td>\n",
       "      <td>26.0</td>\n",
       "      <td>Jul 3, 2002 to Dec 25, 2002</td>\n",
       "      <td>...</td>\n",
       "      <td>Sunrise</td>\n",
       "      <td>Original</td>\n",
       "      <td>25 min per ep</td>\n",
       "      <td>PG-13 - Teens 13 or older</td>\n",
       "      <td>2764.0</td>\n",
       "      <td>1795</td>\n",
       "      <td>613</td>\n",
       "      <td>42829.0</td>\n",
       "      <td>111931</td>\n",
       "      <td>https://cdn.myanimelist.net/images/anime/10/19...</td>\n",
       "    </tr>\n",
       "    <tr>\n",
       "      <th>4</th>\n",
       "      <td>8</td>\n",
       "      <td>Bouken Ou Beet</td>\n",
       "      <td>Beet the Vandel Buster</td>\n",
       "      <td>冒険王ビィト</td>\n",
       "      <td>6.94</td>\n",
       "      <td>Adventure, Fantasy, Supernatural</td>\n",
       "      <td>It is the dark century and the people are suff...</td>\n",
       "      <td>TV</td>\n",
       "      <td>52.0</td>\n",
       "      <td>Sep 30, 2004 to Sep 29, 2005</td>\n",
       "      <td>...</td>\n",
       "      <td>Toei Animation</td>\n",
       "      <td>Manga</td>\n",
       "      <td>23 min per ep</td>\n",
       "      <td>PG - Children</td>\n",
       "      <td>4240.0</td>\n",
       "      <td>5126</td>\n",
       "      <td>14</td>\n",
       "      <td>6413.0</td>\n",
       "      <td>15001</td>\n",
       "      <td>https://cdn.myanimelist.net/images/anime/7/215...</td>\n",
       "    </tr>\n",
       "  </tbody>\n",
       "</table>\n",
       "<p>5 rows × 24 columns</p>\n",
       "</div>"
      ],
      "text/plain": [
       "   anime_id                             Name             English name  \\\n",
       "0         1                     Cowboy Bebop             Cowboy Bebop   \n",
       "1         5  Cowboy Bebop: Tengoku no Tobira  Cowboy Bebop: The Movie   \n",
       "2         6                           Trigun                   Trigun   \n",
       "3         7               Witch Hunter Robin       Witch Hunter Robin   \n",
       "4         8                   Bouken Ou Beet   Beet the Vandel Buster   \n",
       "\n",
       "                         Other name Score  \\\n",
       "0                         カウボーイビバップ  8.75   \n",
       "1                    カウボーイビバップ 天国の扉  8.38   \n",
       "2                             トライガン  8.22   \n",
       "3  Witch Hunter ROBIN (ウイッチハンターロビン)  7.25   \n",
       "4                            冒険王ビィト  6.94   \n",
       "\n",
       "                                 Genres  \\\n",
       "0         Action, Award Winning, Sci-Fi   \n",
       "1                        Action, Sci-Fi   \n",
       "2             Action, Adventure, Sci-Fi   \n",
       "3  Action, Drama, Mystery, Supernatural   \n",
       "4      Adventure, Fantasy, Supernatural   \n",
       "\n",
       "                                            Synopsis   Type Episodes  \\\n",
       "0  Crime is timeless. By the year 2071, humanity ...     TV     26.0   \n",
       "1  Another day, another bounty—such is the life o...  Movie      1.0   \n",
       "2  Vash the Stampede is the man with a $$60,000,0...     TV     26.0   \n",
       "3  Robin Sena is a powerful craft user drafted in...     TV     26.0   \n",
       "4  It is the dark century and the people are suff...     TV     52.0   \n",
       "\n",
       "                          Aired  ...         Studios    Source       Duration  \\\n",
       "0   Apr 3, 1998 to Apr 24, 1999  ...         Sunrise  Original  24 min per ep   \n",
       "1                   Sep 1, 2001  ...           Bones  Original    1 hr 55 min   \n",
       "2   Apr 1, 1998 to Sep 30, 1998  ...        Madhouse     Manga  24 min per ep   \n",
       "3   Jul 3, 2002 to Dec 25, 2002  ...         Sunrise  Original  25 min per ep   \n",
       "4  Sep 30, 2004 to Sep 29, 2005  ...  Toei Animation     Manga  23 min per ep   \n",
       "\n",
       "                           Rating    Rank Popularity Favorites Scored By  \\\n",
       "0  R - 17+ (violence & profanity)    41.0         43     78525  914193.0   \n",
       "1  R - 17+ (violence & profanity)   189.0        602      1448  206248.0   \n",
       "2       PG-13 - Teens 13 or older   328.0        246     15035  356739.0   \n",
       "3       PG-13 - Teens 13 or older  2764.0       1795       613   42829.0   \n",
       "4                   PG - Children  4240.0       5126        14    6413.0   \n",
       "\n",
       "   Members                                          Image URL  \n",
       "0  1771505  https://cdn.myanimelist.net/images/anime/4/196...  \n",
       "1   360978  https://cdn.myanimelist.net/images/anime/1439/...  \n",
       "2   727252  https://cdn.myanimelist.net/images/anime/7/203...  \n",
       "3   111931  https://cdn.myanimelist.net/images/anime/10/19...  \n",
       "4    15001  https://cdn.myanimelist.net/images/anime/7/215...  \n",
       "\n",
       "[5 rows x 24 columns]"
      ]
     },
     "execution_count": 3,
     "metadata": {},
     "output_type": "execute_result"
    }
   ],
   "source": [
    "print(\"Anime Dataset\")\n",
    "anime.head()"
   ]
  },
  {
   "cell_type": "code",
   "execution_count": 4,
   "metadata": {
    "execution": {
     "iopub.execute_input": "2024-12-18T02:37:09.954750Z",
     "iopub.status.busy": "2024-12-18T02:37:09.954479Z",
     "iopub.status.idle": "2024-12-18T02:37:09.963637Z",
     "shell.execute_reply": "2024-12-18T02:37:09.962775Z",
     "shell.execute_reply.started": "2024-12-18T02:37:09.954725Z"
    },
    "trusted": true
   },
   "outputs": [
    {
     "name": "stdout",
     "output_type": "stream",
     "text": [
      "User Rating Dataset\n"
     ]
    },
    {
     "data": {
      "text/html": [
       "<div>\n",
       "<style scoped>\n",
       "    .dataframe tbody tr th:only-of-type {\n",
       "        vertical-align: middle;\n",
       "    }\n",
       "\n",
       "    .dataframe tbody tr th {\n",
       "        vertical-align: top;\n",
       "    }\n",
       "\n",
       "    .dataframe thead th {\n",
       "        text-align: right;\n",
       "    }\n",
       "</style>\n",
       "<table border=\"1\" class=\"dataframe\">\n",
       "  <thead>\n",
       "    <tr style=\"text-align: right;\">\n",
       "      <th></th>\n",
       "      <th>user_id</th>\n",
       "      <th>Username</th>\n",
       "      <th>anime_id</th>\n",
       "      <th>Anime Title</th>\n",
       "      <th>rating</th>\n",
       "    </tr>\n",
       "  </thead>\n",
       "  <tbody>\n",
       "    <tr>\n",
       "      <th>0</th>\n",
       "      <td>1</td>\n",
       "      <td>Xinil</td>\n",
       "      <td>21</td>\n",
       "      <td>One Piece</td>\n",
       "      <td>9</td>\n",
       "    </tr>\n",
       "    <tr>\n",
       "      <th>1</th>\n",
       "      <td>1</td>\n",
       "      <td>Xinil</td>\n",
       "      <td>48</td>\n",
       "      <td>.hack//Sign</td>\n",
       "      <td>7</td>\n",
       "    </tr>\n",
       "    <tr>\n",
       "      <th>2</th>\n",
       "      <td>1</td>\n",
       "      <td>Xinil</td>\n",
       "      <td>320</td>\n",
       "      <td>A Kite</td>\n",
       "      <td>5</td>\n",
       "    </tr>\n",
       "    <tr>\n",
       "      <th>3</th>\n",
       "      <td>1</td>\n",
       "      <td>Xinil</td>\n",
       "      <td>49</td>\n",
       "      <td>Aa! Megami-sama!</td>\n",
       "      <td>8</td>\n",
       "    </tr>\n",
       "    <tr>\n",
       "      <th>4</th>\n",
       "      <td>1</td>\n",
       "      <td>Xinil</td>\n",
       "      <td>304</td>\n",
       "      <td>Aa! Megami-sama! Movie</td>\n",
       "      <td>8</td>\n",
       "    </tr>\n",
       "  </tbody>\n",
       "</table>\n",
       "</div>"
      ],
      "text/plain": [
       "   user_id Username  anime_id             Anime Title  rating\n",
       "0        1    Xinil        21               One Piece       9\n",
       "1        1    Xinil        48             .hack//Sign       7\n",
       "2        1    Xinil       320                  A Kite       5\n",
       "3        1    Xinil        49        Aa! Megami-sama!       8\n",
       "4        1    Xinil       304  Aa! Megami-sama! Movie       8"
      ]
     },
     "execution_count": 4,
     "metadata": {},
     "output_type": "execute_result"
    }
   ],
   "source": [
    "print(\"User Rating Dataset\")\n",
    "user_rating.head()"
   ]
  },
  {
   "cell_type": "markdown",
   "metadata": {},
   "source": [
    "#### Drop Feature that less relevant"
   ]
  },
  {
   "cell_type": "markdown",
   "metadata": {},
   "source": [
    "- **Anime Dataset**  \n",
    "For content-based filtering, I'll use features that describe the content of the anime. These features help calculate the similarity between items (anime) based on their attributes.  \n",
    "**Features to Use**\n",
    "    - anime_id: A unique identifier for each anime.\n",
    "    - Name: The official title of the anime.\n",
    "    - Genres: Describes the type of anime (e.g., Action, Romance). Use this for calculating similarity.\n",
    "    - Synopsis: Provides a detailed description of the anime's plot.\n",
    "    - Type: Indicates the format of the anime (e.g., TV, Movie, OVA).\n",
    "    - Score: Represents the anime's overall rating and popularity.\n",
    "    - Studios: Information about the production studio, which can influence style and quality.\n",
    "    - Source: Highlights the origin of the story (e.g., Manga, Light Novel, Original).\n",
    "    - Popularity: Indicates how widely the anime is recognized."
   ]
  },
  {
   "cell_type": "code",
   "execution_count": 5,
   "metadata": {
    "execution": {
     "iopub.execute_input": "2024-12-18T02:37:09.964962Z",
     "iopub.status.busy": "2024-12-18T02:37:09.964720Z",
     "iopub.status.idle": "2024-12-18T02:37:10.021237Z",
     "shell.execute_reply": "2024-12-18T02:37:10.020420Z",
     "shell.execute_reply.started": "2024-12-18T02:37:09.964938Z"
    },
    "trusted": true
   },
   "outputs": [
    {
     "name": "stderr",
     "output_type": "stream",
     "text": [
      "/tmp/ipykernel_23/3141747454.py:8: SettingWithCopyWarning: \n",
      "A value is trying to be set on a copy of a slice from a DataFrame.\n",
      "Try using .loc[row_indexer,col_indexer] = value instead\n",
      "\n",
      "See the caveats in the documentation: https://pandas.pydata.org/pandas-docs/stable/user_guide/indexing.html#returning-a-view-versus-a-copy\n",
      "  anime_filtered['Score'] = pd.to_numeric(anime_filtered['Score'], errors='coerce')\n",
      "/tmp/ipykernel_23/3141747454.py:11: SettingWithCopyWarning: \n",
      "A value is trying to be set on a copy of a slice from a DataFrame.\n",
      "Try using .loc[row_indexer,col_indexer] = value instead\n",
      "\n",
      "See the caveats in the documentation: https://pandas.pydata.org/pandas-docs/stable/user_guide/indexing.html#returning-a-view-versus-a-copy\n",
      "  anime_filtered['Genre_List'] = anime_filtered['Genres'].str.split(', ')\n",
      "/tmp/ipykernel_23/3141747454.py:12: SettingWithCopyWarning: \n",
      "A value is trying to be set on a copy of a slice from a DataFrame\n",
      "\n",
      "See the caveats in the documentation: https://pandas.pydata.org/pandas-docs/stable/user_guide/indexing.html#returning-a-view-versus-a-copy\n",
      "  anime_filtered.drop(columns=['Genres'], inplace=True)\n"
     ]
    },
    {
     "data": {
      "text/html": [
       "<div>\n",
       "<style scoped>\n",
       "    .dataframe tbody tr th:only-of-type {\n",
       "        vertical-align: middle;\n",
       "    }\n",
       "\n",
       "    .dataframe tbody tr th {\n",
       "        vertical-align: top;\n",
       "    }\n",
       "\n",
       "    .dataframe thead th {\n",
       "        text-align: right;\n",
       "    }\n",
       "</style>\n",
       "<table border=\"1\" class=\"dataframe\">\n",
       "  <thead>\n",
       "    <tr style=\"text-align: right;\">\n",
       "      <th></th>\n",
       "      <th>anime_id</th>\n",
       "      <th>Name</th>\n",
       "      <th>Synopsis</th>\n",
       "      <th>Type</th>\n",
       "      <th>Score</th>\n",
       "      <th>Studios</th>\n",
       "      <th>Source</th>\n",
       "      <th>Popularity</th>\n",
       "      <th>Genre_List</th>\n",
       "    </tr>\n",
       "  </thead>\n",
       "  <tbody>\n",
       "    <tr>\n",
       "      <th>0</th>\n",
       "      <td>1</td>\n",
       "      <td>Cowboy Bebop</td>\n",
       "      <td>Crime is timeless. By the year 2071, humanity ...</td>\n",
       "      <td>TV</td>\n",
       "      <td>8.75</td>\n",
       "      <td>Sunrise</td>\n",
       "      <td>Original</td>\n",
       "      <td>43</td>\n",
       "      <td>[Action, Award Winning, Sci-Fi]</td>\n",
       "    </tr>\n",
       "    <tr>\n",
       "      <th>1</th>\n",
       "      <td>5</td>\n",
       "      <td>Cowboy Bebop: Tengoku no Tobira</td>\n",
       "      <td>Another day, another bounty—such is the life o...</td>\n",
       "      <td>Movie</td>\n",
       "      <td>8.38</td>\n",
       "      <td>Bones</td>\n",
       "      <td>Original</td>\n",
       "      <td>602</td>\n",
       "      <td>[Action, Sci-Fi]</td>\n",
       "    </tr>\n",
       "    <tr>\n",
       "      <th>2</th>\n",
       "      <td>6</td>\n",
       "      <td>Trigun</td>\n",
       "      <td>Vash the Stampede is the man with a $$60,000,0...</td>\n",
       "      <td>TV</td>\n",
       "      <td>8.22</td>\n",
       "      <td>Madhouse</td>\n",
       "      <td>Manga</td>\n",
       "      <td>246</td>\n",
       "      <td>[Action, Adventure, Sci-Fi]</td>\n",
       "    </tr>\n",
       "    <tr>\n",
       "      <th>3</th>\n",
       "      <td>7</td>\n",
       "      <td>Witch Hunter Robin</td>\n",
       "      <td>Robin Sena is a powerful craft user drafted in...</td>\n",
       "      <td>TV</td>\n",
       "      <td>7.25</td>\n",
       "      <td>Sunrise</td>\n",
       "      <td>Original</td>\n",
       "      <td>1795</td>\n",
       "      <td>[Action, Drama, Mystery, Supernatural]</td>\n",
       "    </tr>\n",
       "    <tr>\n",
       "      <th>4</th>\n",
       "      <td>8</td>\n",
       "      <td>Bouken Ou Beet</td>\n",
       "      <td>It is the dark century and the people are suff...</td>\n",
       "      <td>TV</td>\n",
       "      <td>6.94</td>\n",
       "      <td>Toei Animation</td>\n",
       "      <td>Manga</td>\n",
       "      <td>5126</td>\n",
       "      <td>[Adventure, Fantasy, Supernatural]</td>\n",
       "    </tr>\n",
       "  </tbody>\n",
       "</table>\n",
       "</div>"
      ],
      "text/plain": [
       "   anime_id                             Name  \\\n",
       "0         1                     Cowboy Bebop   \n",
       "1         5  Cowboy Bebop: Tengoku no Tobira   \n",
       "2         6                           Trigun   \n",
       "3         7               Witch Hunter Robin   \n",
       "4         8                   Bouken Ou Beet   \n",
       "\n",
       "                                            Synopsis   Type  Score  \\\n",
       "0  Crime is timeless. By the year 2071, humanity ...     TV   8.75   \n",
       "1  Another day, another bounty—such is the life o...  Movie   8.38   \n",
       "2  Vash the Stampede is the man with a $$60,000,0...     TV   8.22   \n",
       "3  Robin Sena is a powerful craft user drafted in...     TV   7.25   \n",
       "4  It is the dark century and the people are suff...     TV   6.94   \n",
       "\n",
       "          Studios    Source  Popularity  \\\n",
       "0         Sunrise  Original          43   \n",
       "1           Bones  Original         602   \n",
       "2        Madhouse     Manga         246   \n",
       "3         Sunrise  Original        1795   \n",
       "4  Toei Animation     Manga        5126   \n",
       "\n",
       "                               Genre_List  \n",
       "0         [Action, Award Winning, Sci-Fi]  \n",
       "1                        [Action, Sci-Fi]  \n",
       "2             [Action, Adventure, Sci-Fi]  \n",
       "3  [Action, Drama, Mystery, Supernatural]  \n",
       "4      [Adventure, Fantasy, Supernatural]  "
      ]
     },
     "execution_count": 5,
     "metadata": {},
     "output_type": "execute_result"
    }
   ],
   "source": [
    "# Columns to retain\n",
    "useful_features = ['anime_id', 'Name', 'Genres', 'Synopsis', 'Type', 'Score', 'Studios', 'Source', 'Popularity']\n",
    "\n",
    "# Filter dataset to keep only the useful features\n",
    "anime_filtered = anime[useful_features]\n",
    "\n",
    "# Convert Score to numeric\n",
    "anime_filtered['Score'] = pd.to_numeric(anime_filtered['Score'], errors='coerce')\n",
    "\n",
    "# Parse Genres\n",
    "anime_filtered['Genre_List'] = anime_filtered['Genres'].str.split(', ')\n",
    "anime_filtered.drop(columns=['Genres'], inplace=True)\n",
    "\n",
    "anime_filtered.head()"
   ]
  },
  {
   "cell_type": "markdown",
   "metadata": {},
   "source": [
    "- **User Rating Dataset**  \n",
    "For collaborative filtering I only need the user_id, anime_id, and rating columns. The other columns, Username and Anime Title, are not directly required for collaborative filtering models as they are identifiers or metadata.  \n",
    "**Features to Use**\n",
    "    - user_id: Identifies the user in the interaction matrix.\n",
    "    - anime_id: Identifies the anime in the interaction matrix.\n",
    "    - rating: Represents the user's preference for the anime (used to predict ratings)."
   ]
  },
  {
   "cell_type": "code",
   "execution_count": 6,
   "metadata": {
    "execution": {
     "iopub.execute_input": "2024-12-18T02:37:10.022500Z",
     "iopub.status.busy": "2024-12-18T02:37:10.022221Z",
     "iopub.status.idle": "2024-12-18T02:37:10.210408Z",
     "shell.execute_reply": "2024-12-18T02:37:10.209568Z",
     "shell.execute_reply.started": "2024-12-18T02:37:10.022475Z"
    },
    "trusted": true
   },
   "outputs": [
    {
     "data": {
      "text/html": [
       "<div>\n",
       "<style scoped>\n",
       "    .dataframe tbody tr th:only-of-type {\n",
       "        vertical-align: middle;\n",
       "    }\n",
       "\n",
       "    .dataframe tbody tr th {\n",
       "        vertical-align: top;\n",
       "    }\n",
       "\n",
       "    .dataframe thead th {\n",
       "        text-align: right;\n",
       "    }\n",
       "</style>\n",
       "<table border=\"1\" class=\"dataframe\">\n",
       "  <thead>\n",
       "    <tr style=\"text-align: right;\">\n",
       "      <th></th>\n",
       "      <th>user_id</th>\n",
       "      <th>anime_id</th>\n",
       "      <th>rating</th>\n",
       "    </tr>\n",
       "  </thead>\n",
       "  <tbody>\n",
       "    <tr>\n",
       "      <th>0</th>\n",
       "      <td>1</td>\n",
       "      <td>21</td>\n",
       "      <td>9</td>\n",
       "    </tr>\n",
       "    <tr>\n",
       "      <th>1</th>\n",
       "      <td>1</td>\n",
       "      <td>48</td>\n",
       "      <td>7</td>\n",
       "    </tr>\n",
       "    <tr>\n",
       "      <th>2</th>\n",
       "      <td>1</td>\n",
       "      <td>320</td>\n",
       "      <td>5</td>\n",
       "    </tr>\n",
       "    <tr>\n",
       "      <th>3</th>\n",
       "      <td>1</td>\n",
       "      <td>49</td>\n",
       "      <td>8</td>\n",
       "    </tr>\n",
       "    <tr>\n",
       "      <th>4</th>\n",
       "      <td>1</td>\n",
       "      <td>304</td>\n",
       "      <td>8</td>\n",
       "    </tr>\n",
       "  </tbody>\n",
       "</table>\n",
       "</div>"
      ],
      "text/plain": [
       "   user_id  anime_id  rating\n",
       "0        1        21       9\n",
       "1        1        48       7\n",
       "2        1       320       5\n",
       "3        1        49       8\n",
       "4        1       304       8"
      ]
     },
     "execution_count": 6,
     "metadata": {},
     "output_type": "execute_result"
    }
   ],
   "source": [
    "user_rating_filtered = user_rating.drop(columns=[\"Username\", \"Anime Title\"])\n",
    "user_rating_filtered.head()"
   ]
  },
  {
   "cell_type": "markdown",
   "metadata": {},
   "source": [
    "#### Initial Inspection\n",
    "In this section I perform initial inspection to find out general information using **info()** and descriptive statistics using **describe()** on the dataset."
   ]
  },
  {
   "cell_type": "code",
   "execution_count": 7,
   "metadata": {
    "execution": {
     "iopub.execute_input": "2024-12-18T02:37:10.212171Z",
     "iopub.status.busy": "2024-12-18T02:37:10.211898Z",
     "iopub.status.idle": "2024-12-18T02:37:10.239659Z",
     "shell.execute_reply": "2024-12-18T02:37:10.238847Z",
     "shell.execute_reply.started": "2024-12-18T02:37:10.212146Z"
    },
    "trusted": true
   },
   "outputs": [
    {
     "name": "stdout",
     "output_type": "stream",
     "text": [
      "Anime Data Information:\n",
      "<class 'pandas.core.frame.DataFrame'>\n",
      "RangeIndex: 24905 entries, 0 to 24904\n",
      "Data columns (total 9 columns):\n",
      " #   Column      Non-Null Count  Dtype  \n",
      "---  ------      --------------  -----  \n",
      " 0   anime_id    24905 non-null  int64  \n",
      " 1   Name        24905 non-null  object \n",
      " 2   Synopsis    24905 non-null  object \n",
      " 3   Type        24905 non-null  object \n",
      " 4   Score       15692 non-null  float64\n",
      " 5   Studios     24905 non-null  object \n",
      " 6   Source      24905 non-null  object \n",
      " 7   Popularity  24905 non-null  int64  \n",
      " 8   Genre_List  24905 non-null  object \n",
      "dtypes: float64(1), int64(2), object(6)\n",
      "memory usage: 1.7+ MB\n",
      "None\n"
     ]
    }
   ],
   "source": [
    "print(\"Anime Data Information:\")\n",
    "print(anime_filtered.info())"
   ]
  },
  {
   "cell_type": "code",
   "execution_count": 8,
   "metadata": {
    "execution": {
     "iopub.execute_input": "2024-12-18T02:37:10.241006Z",
     "iopub.status.busy": "2024-12-18T02:37:10.240668Z",
     "iopub.status.idle": "2024-12-18T02:37:10.257055Z",
     "shell.execute_reply": "2024-12-18T02:37:10.256403Z",
     "shell.execute_reply.started": "2024-12-18T02:37:10.240971Z"
    },
    "trusted": true
   },
   "outputs": [
    {
     "name": "stdout",
     "output_type": "stream",
     "text": [
      "Anime Data Descriptive Statistics:\n",
      "           anime_id         Score    Popularity\n",
      "count  24905.000000  15692.000000  24905.000000\n",
      "mean   29776.709014      6.380890  12265.388356\n",
      "std    17976.076290      0.928696   7187.428393\n",
      "min        1.000000      1.850000      0.000000\n",
      "25%    10507.000000      5.730000   6040.000000\n",
      "50%    34628.000000      6.390000  12265.000000\n",
      "75%    45240.000000      7.060000  18491.000000\n",
      "max    55735.000000      9.100000  24723.000000\n"
     ]
    }
   ],
   "source": [
    "print(\"Anime Data Descriptive Statistics:\")\n",
    "print(anime_filtered.describe())"
   ]
  },
  {
   "cell_type": "code",
   "execution_count": 9,
   "metadata": {
    "execution": {
     "iopub.execute_input": "2024-12-18T02:37:10.258290Z",
     "iopub.status.busy": "2024-12-18T02:37:10.257978Z",
     "iopub.status.idle": "2024-12-18T02:37:10.272136Z",
     "shell.execute_reply": "2024-12-18T02:37:10.271425Z",
     "shell.execute_reply.started": "2024-12-18T02:37:10.258254Z"
    },
    "trusted": true
   },
   "outputs": [
    {
     "name": "stdout",
     "output_type": "stream",
     "text": [
      "Missing Values:\n",
      "anime_id         0\n",
      "Name             0\n",
      "Synopsis         0\n",
      "Type             0\n",
      "Score         9213\n",
      "Studios          0\n",
      "Source           0\n",
      "Popularity       0\n",
      "Genre_List       0\n",
      "dtype: int64\n"
     ]
    }
   ],
   "source": [
    "print(\"Missing Values:\")\n",
    "print(anime_filtered.isnull().sum())"
   ]
  },
  {
   "cell_type": "markdown",
   "metadata": {},
   "source": [
    "Given that nearly 37% of the rows (9,213) are missing Score, dropping them may significantly reduce my dataset size, which could impact the robustness of my analysis or model. so we should Filling missing scores with **0** instead of dropping them."
   ]
  },
  {
   "cell_type": "code",
   "execution_count": 10,
   "metadata": {
    "execution": {
     "iopub.execute_input": "2024-12-18T02:37:10.275482Z",
     "iopub.status.busy": "2024-12-18T02:37:10.275194Z",
     "iopub.status.idle": "2024-12-18T02:37:10.285078Z",
     "shell.execute_reply": "2024-12-18T02:37:10.284207Z",
     "shell.execute_reply.started": "2024-12-18T02:37:10.275459Z"
    },
    "trusted": true
   },
   "outputs": [
    {
     "name": "stderr",
     "output_type": "stream",
     "text": [
      "/tmp/ipykernel_23/3307978456.py:1: SettingWithCopyWarning: \n",
      "A value is trying to be set on a copy of a slice from a DataFrame.\n",
      "Try using .loc[row_indexer,col_indexer] = value instead\n",
      "\n",
      "See the caveats in the documentation: https://pandas.pydata.org/pandas-docs/stable/user_guide/indexing.html#returning-a-view-versus-a-copy\n",
      "  anime_filtered['Score'] = anime_filtered['Score'].fillna(0)\n"
     ]
    }
   ],
   "source": [
    "anime_filtered['Score'] = anime_filtered['Score'].fillna(0)\n"
   ]
  },
  {
   "cell_type": "code",
   "execution_count": 11,
   "metadata": {
    "execution": {
     "iopub.execute_input": "2024-12-18T02:37:10.286265Z",
     "iopub.status.busy": "2024-12-18T02:37:10.285998Z",
     "iopub.status.idle": "2024-12-18T02:37:10.318412Z",
     "shell.execute_reply": "2024-12-18T02:37:10.317701Z",
     "shell.execute_reply.started": "2024-12-18T02:37:10.286241Z"
    },
    "trusted": true
   },
   "outputs": [
    {
     "name": "stdout",
     "output_type": "stream",
     "text": [
      "Anime Data Information:\n",
      "<class 'pandas.core.frame.DataFrame'>\n",
      "RangeIndex: 24905 entries, 0 to 24904\n",
      "Data columns (total 9 columns):\n",
      " #   Column      Non-Null Count  Dtype  \n",
      "---  ------      --------------  -----  \n",
      " 0   anime_id    24905 non-null  int64  \n",
      " 1   Name        24905 non-null  object \n",
      " 2   Synopsis    24905 non-null  object \n",
      " 3   Type        24905 non-null  object \n",
      " 4   Score       24905 non-null  float64\n",
      " 5   Studios     24905 non-null  object \n",
      " 6   Source      24905 non-null  object \n",
      " 7   Popularity  24905 non-null  int64  \n",
      " 8   Genre_List  24905 non-null  object \n",
      "dtypes: float64(1), int64(2), object(6)\n",
      "memory usage: 1.7+ MB\n",
      "None\n",
      "Missing Values:\n",
      "anime_id      0\n",
      "Name          0\n",
      "Synopsis      0\n",
      "Type          0\n",
      "Score         0\n",
      "Studios       0\n",
      "Source        0\n",
      "Popularity    0\n",
      "Genre_List    0\n",
      "dtype: int64\n"
     ]
    }
   ],
   "source": [
    "print(\"Anime Data Information:\")\n",
    "print(anime_filtered.info())\n",
    "print(\"Missing Values:\")\n",
    "print(anime_filtered.isnull().sum())"
   ]
  },
  {
   "cell_type": "code",
   "execution_count": 12,
   "metadata": {
    "execution": {
     "iopub.execute_input": "2024-12-18T02:37:10.319682Z",
     "iopub.status.busy": "2024-12-18T02:37:10.319371Z",
     "iopub.status.idle": "2024-12-18T02:37:10.326845Z",
     "shell.execute_reply": "2024-12-18T02:37:10.326031Z",
     "shell.execute_reply.started": "2024-12-18T02:37:10.319659Z"
    },
    "trusted": true
   },
   "outputs": [
    {
     "name": "stdout",
     "output_type": "stream",
     "text": [
      "User Data Information:\n",
      "<class 'pandas.core.frame.DataFrame'>\n",
      "RangeIndex: 24325191 entries, 0 to 24325190\n",
      "Data columns (total 3 columns):\n",
      " #   Column    Dtype\n",
      "---  ------    -----\n",
      " 0   user_id   int64\n",
      " 1   anime_id  int64\n",
      " 2   rating    int64\n",
      "dtypes: int64(3)\n",
      "memory usage: 556.8 MB\n",
      "None\n"
     ]
    }
   ],
   "source": [
    "print(\"User Data Information:\")\n",
    "print(user_rating_filtered.info())"
   ]
  },
  {
   "cell_type": "code",
   "execution_count": 13,
   "metadata": {
    "execution": {
     "iopub.execute_input": "2024-12-18T02:37:10.328830Z",
     "iopub.status.busy": "2024-12-18T02:37:10.327953Z",
     "iopub.status.idle": "2024-12-18T02:37:12.398356Z",
     "shell.execute_reply": "2024-12-18T02:37:12.397357Z",
     "shell.execute_reply.started": "2024-12-18T02:37:10.328793Z"
    },
    "trusted": true
   },
   "outputs": [
    {
     "name": "stdout",
     "output_type": "stream",
     "text": [
      "User Rating Data Descriptive Statistics:\n",
      "            user_id      anime_id        rating\n",
      "count  2.432519e+07  2.432519e+07  2.432519e+07\n",
      "mean   4.403843e+05  9.754686e+03  7.622930e+00\n",
      "std    3.669469e+05  1.206196e+04  1.661510e+00\n",
      "min    1.000000e+00  1.000000e+00  1.000000e+00\n",
      "25%    9.718800e+04  8.730000e+02  7.000000e+00\n",
      "50%    3.879780e+05  4.726000e+03  8.000000e+00\n",
      "75%    5.280430e+05  1.316100e+04  9.000000e+00\n",
      "max    1.291097e+06  5.608500e+04  1.000000e+01\n"
     ]
    }
   ],
   "source": [
    "print(\"User Rating Data Descriptive Statistics:\")\n",
    "print(user_rating.describe())"
   ]
  },
  {
   "cell_type": "code",
   "execution_count": 14,
   "metadata": {
    "execution": {
     "iopub.execute_input": "2024-12-18T02:37:12.399888Z",
     "iopub.status.busy": "2024-12-18T02:37:12.399542Z",
     "iopub.status.idle": "2024-12-18T02:37:12.455603Z",
     "shell.execute_reply": "2024-12-18T02:37:12.454742Z",
     "shell.execute_reply.started": "2024-12-18T02:37:12.399850Z"
    },
    "trusted": true
   },
   "outputs": [
    {
     "name": "stdout",
     "output_type": "stream",
     "text": [
      "Missing Values:\n",
      "user_id     0\n",
      "anime_id    0\n",
      "rating      0\n",
      "dtype: int64\n"
     ]
    }
   ],
   "source": [
    "print(\"Missing Values:\")\n",
    "print(user_rating_filtered.isnull().sum())"
   ]
  },
  {
   "cell_type": "markdown",
   "metadata": {},
   "source": [
    "#### Univariate Analysis:\n",
    "Univariate analysis focuses on analyzing one variable at a time. Let’s perform it for key columns in both user_rating_filtered and anime_filtered."
   ]
  },
  {
   "cell_type": "markdown",
   "metadata": {},
   "source": [
    "**anime_filtered:**"
   ]
  },
  {
   "cell_type": "markdown",
   "metadata": {},
   "source": [
    "- Score Distribution"
   ]
  },
  {
   "cell_type": "code",
   "execution_count": 15,
   "metadata": {
    "execution": {
     "iopub.execute_input": "2024-12-18T02:37:12.456875Z",
     "iopub.status.busy": "2024-12-18T02:37:12.456603Z",
     "iopub.status.idle": "2024-12-18T02:37:12.842660Z",
     "shell.execute_reply": "2024-12-18T02:37:12.841783Z",
     "shell.execute_reply.started": "2024-12-18T02:37:12.456849Z"
    },
    "trusted": true
   },
   "outputs": [
    {
     "name": "stderr",
     "output_type": "stream",
     "text": [
      "/opt/conda/lib/python3.10/site-packages/seaborn/_oldcore.py:1119: FutureWarning: use_inf_as_na option is deprecated and will be removed in a future version. Convert inf values to NaN before operating instead.\n",
      "  with pd.option_context('mode.use_inf_as_na', True):\n"
     ]
    },
    {
     "data": {
      "image/png": "[encoded data removed]",
      "text/plain": [
       "<Figure size 640x480 with 1 Axes>"
      ]
     },
     "metadata": {},
     "output_type": "display_data"
    }
   ],
   "source": [
    "sns.histplot(anime_filtered['Score'], kde=True, bins=20)\n",
    "plt.title('Distribution of Anime Scores')\n",
    "plt.xlabel('Score')\n",
    "plt.ylabel('Frequency')\n",
    "plt.show()\n"
   ]
  },
  {
   "cell_type": "markdown",
   "metadata": {},
   "source": [
    "The distribution of anime scores is skewed to the right, with a peak around 6-7. This indicates that a significant portion of anime titles receive relatively high ratings. The presence of a long tail towards lower scores suggests a substantial number of anime with lower ratings or those that are unrated (represented by a score of 0). Overall, the distribution suggests a diverse range of anime quality preferences among viewers."
   ]
  },
  {
   "cell_type": "markdown",
   "metadata": {},
   "source": [
    "- Anime Type Distribution"
   ]
  },
  {
   "cell_type": "code",
   "execution_count": 16,
   "metadata": {
    "execution": {
     "iopub.execute_input": "2024-12-18T02:37:12.843979Z",
     "iopub.status.busy": "2024-12-18T02:37:12.843720Z",
     "iopub.status.idle": "2024-12-18T02:37:13.011761Z",
     "shell.execute_reply": "2024-12-18T02:37:13.010887Z",
     "shell.execute_reply.started": "2024-12-18T02:37:12.843954Z"
    },
    "trusted": true
   },
   "outputs": [
    {
     "data": {
      "image/png": "[encoded data removed]",
      "text/plain": [
       "<Figure size 640x480 with 1 Axes>"
      ]
     },
     "metadata": {},
     "output_type": "display_data"
    }
   ],
   "source": [
    "anime_filtered['Type'].value_counts().plot(kind='bar')\n",
    "plt.title('Distribution of Anime Types')\n",
    "plt.xlabel('Type')\n",
    "plt.ylabel('Frequency')\n",
    "plt.show()\n"
   ]
  },
  {
   "cell_type": "markdown",
   "metadata": {},
   "source": [
    "The bar chart illustrates the distribution of anime types within the dataset. TV series are the most prevalent type, followed by movies and OVAs. ONA, music videos, specials, and unknown types constitute a smaller proportion of the dataset. This visualization provides a clear overview of the different anime formats present and their relative frequencies."
   ]
  },
  {
   "cell_type": "markdown",
   "metadata": {},
   "source": [
    "- Genre Frequency: Extract individual genres and count their occurrences."
   ]
  },
  {
   "cell_type": "code",
   "execution_count": 17,
   "metadata": {
    "execution": {
     "iopub.execute_input": "2024-12-18T02:37:13.013077Z",
     "iopub.status.busy": "2024-12-18T02:37:13.012733Z",
     "iopub.status.idle": "2024-12-18T02:37:13.297128Z",
     "shell.execute_reply": "2024-12-18T02:37:13.296249Z",
     "shell.execute_reply.started": "2024-12-18T02:37:13.013041Z"
    },
    "trusted": true
   },
   "outputs": [
    {
     "data": {
      "image/png": "[encoded data removed]",
      "text/plain": [
       "<Figure size 1200x600 with 1 Axes>"
      ]
     },
     "metadata": {},
     "output_type": "display_data"
    }
   ],
   "source": [
    "from collections import Counter\n",
    "genre_counts = Counter([genre for sublist in anime_filtered['Genre_List'] for genre in sublist])\n",
    "genre_df = pd.DataFrame.from_dict(genre_counts, orient='index', columns=['Count'])\n",
    "genre_df.sort_values('Count', ascending=False).plot(kind='bar', figsize=(12, 6))\n",
    "plt.title('Frequency of Genres')\n",
    "plt.xlabel('Genre')\n",
    "plt.ylabel('Count')\n",
    "plt.show()\n"
   ]
  },
  {
   "cell_type": "markdown",
   "metadata": {},
   "source": [
    "The bar chart presents the frequency distribution of various anime genres. Comedy is the most prevalent genre, followed by Fantasy and UNKNOWN. Genres like Action, Adventure, and Sci-Fi also have a significant presence. On the other hand, genres like Erotica, Gourmet, and Girls Love are less common. This visualization provides insights into the popularity and diversity of anime genres within the dataset."
   ]
  },
  {
   "cell_type": "markdown",
   "metadata": {},
   "source": [
    "**user_rating_filtered:**"
   ]
  },
  {
   "cell_type": "markdown",
   "metadata": {},
   "source": [
    "- Rating Distribution"
   ]
  },
  {
   "cell_type": "code",
   "execution_count": 18,
   "metadata": {
    "execution": {
     "iopub.execute_input": "2024-12-18T02:37:13.298490Z",
     "iopub.status.busy": "2024-12-18T02:37:13.298208Z",
     "iopub.status.idle": "2024-12-18T02:37:26.450761Z",
     "shell.execute_reply": "2024-12-18T02:37:26.449879Z",
     "shell.execute_reply.started": "2024-12-18T02:37:13.298465Z"
    },
    "trusted": true
   },
   "outputs": [
    {
     "name": "stderr",
     "output_type": "stream",
     "text": [
      "/opt/conda/lib/python3.10/site-packages/seaborn/_oldcore.py:1119: FutureWarning: use_inf_as_na option is deprecated and will be removed in a future version. Convert inf values to NaN before operating instead.\n",
      "  with pd.option_context('mode.use_inf_as_na', True):\n"
     ]
    },
    {
     "data": {
      "image/png": "[encoded data removed]",
      "text/plain": [
       "<Figure size 640x480 with 1 Axes>"
      ]
     },
     "metadata": {},
     "output_type": "display_data"
    }
   ],
   "source": [
    "import matplotlib.pyplot as plt\n",
    "import seaborn as sns\n",
    "\n",
    "sns.histplot(user_rating_filtered['rating'], bins=10, kde=False)\n",
    "plt.title('Distribution of Ratings')\n",
    "plt.xlabel('Rating')\n",
    "plt.ylabel('Frequency')\n",
    "plt.show()\n"
   ]
  },
  {
   "cell_type": "markdown",
   "metadata": {},
   "source": [
    "The histogram displays the distribution of user ratings for anime. The majority of ratings cluster around 7-8, indicating that a significant number of users tend to give higher ratings. There is a gradual decrease in frequency as the ratings move towards lower scores, with fewer users giving ratings below 5. This suggests that users generally have positive opinions about anime and are more likely to rate them positively."
   ]
  },
  {
   "cell_type": "markdown",
   "metadata": {},
   "source": [
    "#### Multivariate Analysis:\n",
    "Multivariate analysis examines relationships between variables. For this dataset, we'll analyze interactions between variables like ratings, popularity, and scores."
   ]
  },
  {
   "cell_type": "markdown",
   "metadata": {},
   "source": [
    "- Correlation Analysis  \n",
    "Analyze the relationships between numeric features (Score, Popularity, and rating)."
   ]
  },
  {
   "cell_type": "code",
   "execution_count": 19,
   "metadata": {
    "execution": {
     "iopub.execute_input": "2024-12-18T02:37:26.452105Z",
     "iopub.status.busy": "2024-12-18T02:37:26.451759Z",
     "iopub.status.idle": "2024-12-18T02:37:41.590535Z",
     "shell.execute_reply": "2024-12-18T02:37:41.589707Z",
     "shell.execute_reply.started": "2024-12-18T02:37:26.452064Z"
    },
    "trusted": true
   },
   "outputs": [
    {
     "data": {
      "image/png": "[encoded data removed]",
      "text/plain": [
       "<Figure size 640x480 with 2 Axes>"
      ]
     },
     "metadata": {},
     "output_type": "display_data"
    }
   ],
   "source": [
    "combined_df = user_rating_filtered.merge(anime_filtered, on='anime_id')\n",
    "correlation_matrix = combined_df[['Score', 'Popularity', 'rating']].corr()\n",
    "\n",
    "sns.heatmap(correlation_matrix, annot=True, cmap='coolwarm')\n",
    "plt.title('Correlation Matrix')\n",
    "plt.show()\n"
   ]
  },
  {
   "cell_type": "markdown",
   "metadata": {},
   "source": [
    "The correlation matrix reveals insights into the relationships between the variables 'Score', 'Popularity', and 'Rating'. A strong negative correlation exists between 'Score' and 'Popularity', suggesting that as popularity increases, the average score tends to decrease. Conversely, a moderate positive correlation is observed between 'Score' and 'Rating', indicating that higher ratings are associated with higher scores. The correlation between 'Popularity' and 'Rating' is weak and negative, suggesting a minimal relationship between these two variables."
   ]
  },
  {
   "cell_type": "markdown",
   "metadata": {},
   "source": [
    "- Score vs. Popularity  \n",
    "Examine how Score relates to Popularity."
   ]
  },
  {
   "cell_type": "code",
   "execution_count": 20,
   "metadata": {
    "execution": {
     "iopub.execute_input": "2024-12-18T02:37:41.592093Z",
     "iopub.status.busy": "2024-12-18T02:37:41.591736Z",
     "iopub.status.idle": "2024-12-18T02:37:41.879878Z",
     "shell.execute_reply": "2024-12-18T02:37:41.879055Z",
     "shell.execute_reply.started": "2024-12-18T02:37:41.592055Z"
    },
    "trusted": true
   },
   "outputs": [
    {
     "data": {
      "image/png": "[encoded data removed]",
      "text/plain": [
       "<Figure size 640x480 with 1 Axes>"
      ]
     },
     "metadata": {},
     "output_type": "display_data"
    }
   ],
   "source": [
    "sns.scatterplot(data=anime_filtered, x='Popularity', y='Score')\n",
    "plt.title('Popularity vs. Score')\n",
    "plt.xlabel('Popularity')\n",
    "plt.ylabel('Score')\n",
    "plt.show()\n"
   ]
  },
  {
   "cell_type": "markdown",
   "metadata": {},
   "source": [
    "The scatter plot illustrates the relationship between popularity and score. There is a clear negative trend, indicating that as popularity increases, the average score tends to decrease. This suggests that highly popular anime often receive lower average scores compared to less popular ones. However, there is also a significant amount of scatter, indicating that popularity is not the sole determinant of an anime's score."
   ]
  },
  {
   "cell_type": "markdown",
   "metadata": {},
   "source": [
    "- Rating vs. Anime Type  \n",
    "Analyze whether different anime types have different average ratings."
   ]
  },
  {
   "cell_type": "code",
   "execution_count": 21,
   "metadata": {
    "execution": {
     "iopub.execute_input": "2024-12-18T02:37:41.881739Z",
     "iopub.status.busy": "2024-12-18T02:37:41.881141Z",
     "iopub.status.idle": "2024-12-18T02:37:44.147214Z",
     "shell.execute_reply": "2024-12-18T02:37:44.146448Z",
     "shell.execute_reply.started": "2024-12-18T02:37:41.881700Z"
    },
    "trusted": true
   },
   "outputs": [
    {
     "data": {
      "image/png": "[encoded data removed]",
      "text/plain": [
       "<Figure size 1000x600 with 1 Axes>"
      ]
     },
     "metadata": {},
     "output_type": "display_data"
    }
   ],
   "source": [
    "average_rating_per_type = combined_df.groupby('Type')['rating'].mean().sort_values()\n",
    "average_rating_per_type.plot(kind='bar', figsize=(10, 6))\n",
    "plt.title('Average Rating by Anime Type')\n",
    "plt.xlabel('Type')\n",
    "plt.ylabel('Average Rating')\n",
    "plt.show()\n"
   ]
  },
  {
   "cell_type": "markdown",
   "metadata": {},
   "source": [
    "The bar chart presents the average rating for each anime type. Movies have the highest average rating, followed by TV series. Types like UNKNOWN and Music tend to have lower average ratings. This visualization suggests that movie and TV anime are generally perceived as having higher quality compared to other formats."
   ]
  },
  {
   "cell_type": "markdown",
   "metadata": {},
   "source": [
    "- Studios by Average Rating"
   ]
  },
  {
   "cell_type": "code",
   "execution_count": 22,
   "metadata": {
    "execution": {
     "iopub.execute_input": "2024-12-18T02:37:44.148845Z",
     "iopub.status.busy": "2024-12-18T02:37:44.148481Z",
     "iopub.status.idle": "2024-12-18T02:37:46.639881Z",
     "shell.execute_reply": "2024-12-18T02:37:46.639010Z",
     "shell.execute_reply.started": "2024-12-18T02:37:44.148806Z"
    },
    "trusted": true
   },
   "outputs": [
    {
     "data": {
      "image/png": "[encoded data removed]",
      "text/plain": [
       "<Figure size 2400x1200 with 1 Axes>"
      ]
     },
     "metadata": {},
     "output_type": "display_data"
    }
   ],
   "source": [
    "# Group by Studios and calculate the average rating\n",
    "studio_avg_rating = combined_df.groupby('Studios')['rating'].mean().sort_values(ascending=False)\n",
    "\n",
    "# Select top 10 studios by average rating\n",
    "top_studios = studio_avg_rating.head(20)\n",
    "\n",
    "# Plot the top 10 studios\n",
    "plt.figure(figsize=(24, 12))\n",
    "sns.barplot(x=top_studios.values, y=top_studios.index, palette=\"viridis\")\n",
    "plt.title('Top 20 Studios by Average Rating')\n",
    "plt.xlabel('Average Rating')\n",
    "plt.ylabel('Studios')\n",
    "plt.show()"
   ]
  },
  {
   "cell_type": "markdown",
   "metadata": {},
   "source": [
    "The studios are ranked based on their average rating, with Robot Communications and Imagica Imageworks having the highest average rating, followed by UCOS, PERIMETRON, and Mimoid. The list includes a variety of animation and entertainment studios, with some well-known names like Studio Ghibli and Wit Studio, CloverWorks. The data provides a clear visual representation of the relative performance of these studios according to their average ratings."
   ]
  },
  {
   "cell_type": "markdown",
   "metadata": {},
   "source": [
    "## Data Preparation"
   ]
  },
  {
   "cell_type": "markdown",
   "metadata": {},
   "source": [
    "### Preparation for Content-Based Filtering"
   ]
  },
  {
   "cell_type": "markdown",
   "metadata": {},
   "source": [
    "#### Text Vectorization (for 'Synopsis')"
   ]
  },
  {
   "cell_type": "markdown",
   "metadata": {},
   "source": [
    "Text vectorization is crucial for transforming textual data into numerical representations that machine learning models can understand. By applying TF-IDF vectorization, we can convert the textual synopses into a matrix of TF-IDF scores, capturing the importance of each word within the context of the entire dataset. This representation allows us to effectively analyze and compare anime synopses, enabling tasks like clustering, classification, or recommendation systems. Additionally, limiting the number of features to 500 helps reduce dimensionality and computational complexity, while still capturing the most relevant information."
   ]
  },
  {
   "cell_type": "code",
   "execution_count": 23,
   "metadata": {
    "execution": {
     "iopub.execute_input": "2024-12-18T02:37:46.641730Z",
     "iopub.status.busy": "2024-12-18T02:37:46.641115Z",
     "iopub.status.idle": "2024-12-18T02:37:46.650708Z",
     "shell.execute_reply": "2024-12-18T02:37:46.649932Z",
     "shell.execute_reply.started": "2024-12-18T02:37:46.641681Z"
    },
    "trusted": true
   },
   "outputs": [
    {
     "name": "stderr",
     "output_type": "stream",
     "text": [
      "/tmp/ipykernel_23/3446361343.py:2: SettingWithCopyWarning: \n",
      "A value is trying to be set on a copy of a slice from a DataFrame.\n",
      "Try using .loc[row_indexer,col_indexer] = value instead\n",
      "\n",
      "See the caveats in the documentation: https://pandas.pydata.org/pandas-docs/stable/user_guide/indexing.html#returning-a-view-versus-a-copy\n",
      "  anime_filtered['Synopsis'] = anime_filtered['Synopsis'].fillna('')\n"
     ]
    }
   ],
   "source": [
    "tfidf_vectorizer = TfidfVectorizer(stop_words='english', max_features=500)\n",
    "anime_filtered['Synopsis'] = anime_filtered['Synopsis'].fillna('')"
   ]
  },
  {
   "cell_type": "code",
   "execution_count": 24,
   "metadata": {
    "execution": {
     "iopub.execute_input": "2024-12-18T02:37:46.652633Z",
     "iopub.status.busy": "2024-12-18T02:37:46.652011Z",
     "iopub.status.idle": "2024-12-18T02:37:47.709711Z",
     "shell.execute_reply": "2024-12-18T02:37:47.708736Z",
     "shell.execute_reply.started": "2024-12-18T02:37:46.652590Z"
    },
    "trusted": true
   },
   "outputs": [],
   "source": [
    "# Vectorizing the Synopsis and Name columns\n",
    "synopsis_tfidf = tfidf_vectorizer.fit_transform(anime_filtered['Synopsis']).toarray()"
   ]
  },
  {
   "cell_type": "code",
   "execution_count": 25,
   "metadata": {
    "execution": {
     "iopub.execute_input": "2024-12-18T02:37:47.711377Z",
     "iopub.status.busy": "2024-12-18T02:37:47.710901Z",
     "iopub.status.idle": "2024-12-18T02:37:47.718214Z",
     "shell.execute_reply": "2024-12-18T02:37:47.717155Z",
     "shell.execute_reply.started": "2024-12-18T02:37:47.711316Z"
    },
    "trusted": true
   },
   "outputs": [
    {
     "data": {
      "text/plain": [
       "array([[0., 0., 0., ..., 0., 0., 0.],\n",
       "       [0., 0., 0., ..., 0., 0., 0.],\n",
       "       [0., 0., 0., ..., 0., 0., 0.],\n",
       "       ...,\n",
       "       [0., 0., 0., ..., 0., 0., 0.],\n",
       "       [0., 0., 0., ..., 0., 0., 0.],\n",
       "       [0., 0., 0., ..., 0., 0., 0.]])"
      ]
     },
     "execution_count": 25,
     "metadata": {},
     "output_type": "execute_result"
    }
   ],
   "source": [
    "synopsis_tfidf"
   ]
  },
  {
   "cell_type": "markdown",
   "metadata": {},
   "source": [
    "#### Categorical Encoding (for 'Type', 'Studios', 'Source', 'Genre_List')"
   ]
  },
  {
   "cell_type": "markdown",
   "metadata": {},
   "source": [
    "Categorical encoding is essential for transforming categorical variables into numerical representations that machine learning models can process. One-hot encoding is a popular technique for handling nominal categorical variables like 'Type', 'Studios', and 'Source'. It creates binary features for each category, allowing the model to understand the significance of each category. Similarly, for the 'Genre_List' column, we create binary features for each genre, indicating its presence or absence in each anime. By converting these categorical variables into numerical features, we enable the model to capture the underlying patterns and relationships within the data and make accurate predictions."
   ]
  },
  {
   "cell_type": "code",
   "execution_count": 26,
   "metadata": {
    "execution": {
     "iopub.execute_input": "2024-12-18T02:37:47.720009Z",
     "iopub.status.busy": "2024-12-18T02:37:47.719641Z",
     "iopub.status.idle": "2024-12-18T02:37:48.203744Z",
     "shell.execute_reply": "2024-12-18T02:37:48.202851Z",
     "shell.execute_reply.started": "2024-12-18T02:37:47.719973Z"
    },
    "trusted": true
   },
   "outputs": [
    {
     "name": "stderr",
     "output_type": "stream",
     "text": [
      "/tmp/ipykernel_23/1355806012.py:8: SettingWithCopyWarning: \n",
      "A value is trying to be set on a copy of a slice from a DataFrame.\n",
      "Try using .loc[row_indexer,col_indexer] = value instead\n",
      "\n",
      "See the caveats in the documentation: https://pandas.pydata.org/pandas-docs/stable/user_guide/indexing.html#returning-a-view-versus-a-copy\n",
      "  anime_filtered['Genre_List'] = anime_filtered['Genre_List'].apply(lambda x: x.split(', ') if isinstance(x, str) else x)\n",
      "/tmp/ipykernel_23/1355806012.py:15: SettingWithCopyWarning: \n",
      "A value is trying to be set on a copy of a slice from a DataFrame.\n",
      "Try using .loc[row_indexer,col_indexer] = value instead\n",
      "\n",
      "See the caveats in the documentation: https://pandas.pydata.org/pandas-docs/stable/user_guide/indexing.html#returning-a-view-versus-a-copy\n",
      "  anime_filtered[genre] = anime_filtered['Genre_List'].apply(lambda x: 1 if genre in x else 0)\n",
      "/tmp/ipykernel_23/1355806012.py:15: SettingWithCopyWarning: \n",
      "A value is trying to be set on a copy of a slice from a DataFrame.\n",
      "Try using .loc[row_indexer,col_indexer] = value instead\n",
      "\n",
      "See the caveats in the documentation: https://pandas.pydata.org/pandas-docs/stable/user_guide/indexing.html#returning-a-view-versus-a-copy\n",
      "  anime_filtered[genre] = anime_filtered['Genre_List'].apply(lambda x: 1 if genre in x else 0)\n",
      "/tmp/ipykernel_23/1355806012.py:15: SettingWithCopyWarning: \n",
      "A value is trying to be set on a copy of a slice from a DataFrame.\n",
      "Try using .loc[row_indexer,col_indexer] = value instead\n",
      "\n",
      "See the caveats in the documentation: https://pandas.pydata.org/pandas-docs/stable/user_guide/indexing.html#returning-a-view-versus-a-copy\n",
      "  anime_filtered[genre] = anime_filtered['Genre_List'].apply(lambda x: 1 if genre in x else 0)\n",
      "/tmp/ipykernel_23/1355806012.py:15: SettingWithCopyWarning: \n",
      "A value is trying to be set on a copy of a slice from a DataFrame.\n",
      "Try using .loc[row_indexer,col_indexer] = value instead\n",
      "\n",
      "See the caveats in the documentation: https://pandas.pydata.org/pandas-docs/stable/user_guide/indexing.html#returning-a-view-versus-a-copy\n",
      "  anime_filtered[genre] = anime_filtered['Genre_List'].apply(lambda x: 1 if genre in x else 0)\n",
      "/tmp/ipykernel_23/1355806012.py:15: SettingWithCopyWarning: \n",
      "A value is trying to be set on a copy of a slice from a DataFrame.\n",
      "Try using .loc[row_indexer,col_indexer] = value instead\n",
      "\n",
      "See the caveats in the documentation: https://pandas.pydata.org/pandas-docs/stable/user_guide/indexing.html#returning-a-view-versus-a-copy\n",
      "  anime_filtered[genre] = anime_filtered['Genre_List'].apply(lambda x: 1 if genre in x else 0)\n",
      "/tmp/ipykernel_23/1355806012.py:15: SettingWithCopyWarning: \n",
      "A value is trying to be set on a copy of a slice from a DataFrame.\n",
      "Try using .loc[row_indexer,col_indexer] = value instead\n",
      "\n",
      "See the caveats in the documentation: https://pandas.pydata.org/pandas-docs/stable/user_guide/indexing.html#returning-a-view-versus-a-copy\n",
      "  anime_filtered[genre] = anime_filtered['Genre_List'].apply(lambda x: 1 if genre in x else 0)\n",
      "/tmp/ipykernel_23/1355806012.py:15: SettingWithCopyWarning: \n",
      "A value is trying to be set on a copy of a slice from a DataFrame.\n",
      "Try using .loc[row_indexer,col_indexer] = value instead\n",
      "\n",
      "See the caveats in the documentation: https://pandas.pydata.org/pandas-docs/stable/user_guide/indexing.html#returning-a-view-versus-a-copy\n",
      "  anime_filtered[genre] = anime_filtered['Genre_List'].apply(lambda x: 1 if genre in x else 0)\n",
      "/tmp/ipykernel_23/1355806012.py:15: SettingWithCopyWarning: \n",
      "A value is trying to be set on a copy of a slice from a DataFrame.\n",
      "Try using .loc[row_indexer,col_indexer] = value instead\n",
      "\n",
      "See the caveats in the documentation: https://pandas.pydata.org/pandas-docs/stable/user_guide/indexing.html#returning-a-view-versus-a-copy\n",
      "  anime_filtered[genre] = anime_filtered['Genre_List'].apply(lambda x: 1 if genre in x else 0)\n",
      "/tmp/ipykernel_23/1355806012.py:15: SettingWithCopyWarning: \n",
      "A value is trying to be set on a copy of a slice from a DataFrame.\n",
      "Try using .loc[row_indexer,col_indexer] = value instead\n",
      "\n",
      "See the caveats in the documentation: https://pandas.pydata.org/pandas-docs/stable/user_guide/indexing.html#returning-a-view-versus-a-copy\n",
      "  anime_filtered[genre] = anime_filtered['Genre_List'].apply(lambda x: 1 if genre in x else 0)\n",
      "/tmp/ipykernel_23/1355806012.py:15: SettingWithCopyWarning: \n",
      "A value is trying to be set on a copy of a slice from a DataFrame.\n",
      "Try using .loc[row_indexer,col_indexer] = value instead\n",
      "\n",
      "See the caveats in the documentation: https://pandas.pydata.org/pandas-docs/stable/user_guide/indexing.html#returning-a-view-versus-a-copy\n",
      "  anime_filtered[genre] = anime_filtered['Genre_List'].apply(lambda x: 1 if genre in x else 0)\n",
      "/tmp/ipykernel_23/1355806012.py:15: SettingWithCopyWarning: \n",
      "A value is trying to be set on a copy of a slice from a DataFrame.\n",
      "Try using .loc[row_indexer,col_indexer] = value instead\n",
      "\n",
      "See the caveats in the documentation: https://pandas.pydata.org/pandas-docs/stable/user_guide/indexing.html#returning-a-view-versus-a-copy\n",
      "  anime_filtered[genre] = anime_filtered['Genre_List'].apply(lambda x: 1 if genre in x else 0)\n",
      "/tmp/ipykernel_23/1355806012.py:15: SettingWithCopyWarning: \n",
      "A value is trying to be set on a copy of a slice from a DataFrame.\n",
      "Try using .loc[row_indexer,col_indexer] = value instead\n",
      "\n",
      "See the caveats in the documentation: https://pandas.pydata.org/pandas-docs/stable/user_guide/indexing.html#returning-a-view-versus-a-copy\n",
      "  anime_filtered[genre] = anime_filtered['Genre_List'].apply(lambda x: 1 if genre in x else 0)\n",
      "/tmp/ipykernel_23/1355806012.py:15: SettingWithCopyWarning: \n",
      "A value is trying to be set on a copy of a slice from a DataFrame.\n",
      "Try using .loc[row_indexer,col_indexer] = value instead\n",
      "\n",
      "See the caveats in the documentation: https://pandas.pydata.org/pandas-docs/stable/user_guide/indexing.html#returning-a-view-versus-a-copy\n",
      "  anime_filtered[genre] = anime_filtered['Genre_List'].apply(lambda x: 1 if genre in x else 0)\n",
      "/tmp/ipykernel_23/1355806012.py:15: SettingWithCopyWarning: \n",
      "A value is trying to be set on a copy of a slice from a DataFrame.\n",
      "Try using .loc[row_indexer,col_indexer] = value instead\n",
      "\n",
      "See the caveats in the documentation: https://pandas.pydata.org/pandas-docs/stable/user_guide/indexing.html#returning-a-view-versus-a-copy\n",
      "  anime_filtered[genre] = anime_filtered['Genre_List'].apply(lambda x: 1 if genre in x else 0)\n"
     ]
    }
   ],
   "source": [
    "encoder = OneHotEncoder(drop='first', sparse_output=False)\n",
    "categorical_columns = ['Type', 'Studios', 'Source']\n",
    "\n",
    "# One-hot encoding for 'Type', 'Studios', and 'Source'\n",
    "encoded_categories = encoder.fit_transform(anime_filtered[categorical_columns])\n",
    "\n",
    "# Create binary genre features\n",
    "anime_filtered['Genre_List'] = anime_filtered['Genre_List'].apply(lambda x: x.split(', ') if isinstance(x, str) else x)\n",
    "\n",
    "# Use explode to split genres into separate rows\n",
    "genre_list = anime_filtered.explode('Genre_List')['Genre_List'].value_counts().index\n",
    "\n",
    "# Create binary features for each genre\n",
    "for genre in genre_list:\n",
    "    anime_filtered[genre] = anime_filtered['Genre_List'].apply(lambda x: 1 if genre in x else 0)\n",
    "\n",
    "# Combine all binary genre columns\n",
    "genre_features = anime_filtered[genre_list].values"
   ]
  },
  {
   "cell_type": "markdown",
   "metadata": {},
   "source": [
    "#### Numerical Normalization (for 'Score' and 'Popularity')"
   ]
  },
  {
   "cell_type": "markdown",
   "metadata": {},
   "source": [
    "Numerical normalization is crucial for ensuring that features with different scales contribute equally to the model's learning process. Standard scaling is a common technique that transforms numerical features to have zero mean and unit variance. By standardizing the 'Score' and 'Popularity' features, we ensure that they are on the same scale, preventing features with larger magnitudes from dominating the model's decisions. This normalization step improves the model's ability to learn complex patterns and relationships within the data, leading to more accurate predictions."
   ]
  },
  {
   "cell_type": "code",
   "execution_count": 27,
   "metadata": {
    "execution": {
     "iopub.execute_input": "2024-12-18T02:37:48.205741Z",
     "iopub.status.busy": "2024-12-18T02:37:48.205278Z",
     "iopub.status.idle": "2024-12-18T02:37:48.214303Z",
     "shell.execute_reply": "2024-12-18T02:37:48.213313Z",
     "shell.execute_reply.started": "2024-12-18T02:37:48.205701Z"
    },
    "trusted": true
   },
   "outputs": [],
   "source": [
    "scaler = StandardScaler()\n",
    "numerical_features = anime_filtered[['Score', 'Popularity']]\n",
    "\n",
    "# Normalize the numerical features\n",
    "numerical_scaled = scaler.fit_transform(numerical_features)"
   ]
  },
  {
   "cell_type": "markdown",
   "metadata": {},
   "source": [
    "#### Combine All Features"
   ]
  },
  {
   "cell_type": "markdown",
   "metadata": {},
   "source": [
    "Combining all features: text (e.g., synopsis TF-IDF), categorical (e.g., encoded categories), genre, and numerical features into a single feature matrix is essential because it enables the recommendation model to leverage all available information about the anime. Each feature type captures different aspects: text features provide context from the synopsis, categorical and genre features encode descriptive metadata, and numerical features (like scores) add quantitative insights. By integrating these diverse feature sets, the model can analyze a richer, more holistic representation of the data, leading to more accurate and meaningful recommendations. Converting to a dense array ensures compatibility with algorithms that require dense input formats."
   ]
  },
  {
   "cell_type": "code",
   "execution_count": 28,
   "metadata": {
    "execution": {
     "iopub.execute_input": "2024-12-18T02:37:48.221339Z",
     "iopub.status.busy": "2024-12-18T02:37:48.220762Z",
     "iopub.status.idle": "2024-12-18T02:37:48.970045Z",
     "shell.execute_reply": "2024-12-18T02:37:48.969183Z",
     "shell.execute_reply.started": "2024-12-18T02:37:48.221301Z"
    },
    "trusted": true
   },
   "outputs": [
    {
     "data": {
      "text/plain": [
       "array([[ 0.        ,  0.        ,  0.        , ...,  0.        ,\n",
       "         1.49312516, -1.70055729],\n",
       "       [ 0.        ,  0.        ,  0.        , ...,  0.        ,\n",
       "         1.37631606, -1.62278104],\n",
       "       [ 0.        ,  0.        ,  0.        , ...,  0.        ,\n",
       "         1.32580402, -1.67231296],\n",
       "       ...,\n",
       "       [ 0.        ,  0.        ,  0.        , ...,  0.        ,\n",
       "        -1.26925228, -1.70654008],\n",
       "       [ 0.        ,  0.        ,  0.        , ...,  0.        ,\n",
       "        -1.26925228, -1.70654008],\n",
       "       [ 0.        ,  0.        ,  0.        , ...,  0.        ,\n",
       "        -1.26925228, -1.70654008]])"
      ]
     },
     "execution_count": 28,
     "metadata": {},
     "output_type": "execute_result"
    }
   ],
   "source": [
    "from scipy.sparse import csr_matrix, hstack\n",
    "\n",
    "# Ensure the categorical encoding is a sparse matrix (for memory efficiency)\n",
    "encoded_categories_sparse = csr_matrix(encoded_categories)\n",
    "\n",
    "# Ensure the genre features are a sparse matrix (if they are binary, they are sparse by nature)\n",
    "genre_features_sparse = csr_matrix(genre_features)\n",
    "\n",
    "# Combine all features (Text, Categorical, Genre, and Numerical)\n",
    "final_features = hstack([synopsis_tfidf, encoded_categories_sparse, genre_features_sparse, numerical_scaled])\n",
    "\n",
    "# convert everything to a dense array \n",
    "final_features = final_features.toarray()\n",
    "\n",
    "final_features\n"
   ]
  },
  {
   "cell_type": "markdown",
   "metadata": {},
   "source": [
    "### Preparation for Collaborative Filtering"
   ]
  },
  {
   "cell_type": "markdown",
   "metadata": {},
   "source": [
    "#### Encode user_id and anime_id"
   ]
  },
  {
   "cell_type": "markdown",
   "metadata": {},
   "source": [
    "Encoding user IDs and anime IDs is essential for collaborative filtering models to effectively capture user-item interactions. By assigning unique integer indices to each user and anime, we create a numerical representation that the model can process. This encoding enables the model to learn latent factors and preferences associated with specific users and items."
   ]
  },
  {
   "cell_type": "code",
   "execution_count": 29,
   "metadata": {
    "execution": {
     "iopub.execute_input": "2024-12-18T02:37:48.971266Z",
     "iopub.status.busy": "2024-12-18T02:37:48.971027Z",
     "iopub.status.idle": "2024-12-18T02:37:52.830397Z",
     "shell.execute_reply": "2024-12-18T02:37:52.829703Z",
     "shell.execute_reply.started": "2024-12-18T02:37:48.971244Z"
    },
    "trusted": true
   },
   "outputs": [],
   "source": [
    "user_lookup = tf.keras.layers.IntegerLookup()\n",
    "anime_lookup = tf.keras.layers.IntegerLookup()\n",
    "\n",
    "user_lookup.adapt(user_rating_filtered['user_id'])\n",
    "anime_lookup.adapt(user_rating_filtered['anime_id'])\n",
    "\n",
    "user_ratings_encoded = user_rating_filtered.copy()\n",
    "user_ratings_encoded['user_id'] = user_lookup(user_rating_filtered['user_id'])\n",
    "user_ratings_encoded['anime_id'] = anime_lookup(user_rating_filtered['anime_id'])"
   ]
  },
  {
   "cell_type": "markdown",
   "metadata": {},
   "source": [
    "#### Normalize ratings"
   ]
  },
  {
   "cell_type": "markdown",
   "metadata": {},
   "source": [
    "Normalizing the rating data is an important step when using collaborative filtering techniques for recommender systems. By dividing the ratings by 10 to scale them between 0 and 1, you're effectively accounting for differences in how individual users rate items. Some users may be more generous with high ratings, while others may be more conservative. Normalizing the ratings helps to remove this user-specific bias, allowing the collaborative filtering algorithm to better identify similarities between users and make more accurate predictions. \n",
    "\n",
    "This is crucial because collaborative filtering relies on finding patterns in how users rate items relative to each other, rather than just the raw rating values."
   ]
  },
  {
   "cell_type": "code",
   "execution_count": 30,
   "metadata": {
    "execution": {
     "iopub.execute_input": "2024-12-18T02:37:52.831626Z",
     "iopub.status.busy": "2024-12-18T02:37:52.831332Z",
     "iopub.status.idle": "2024-12-18T02:37:52.943102Z",
     "shell.execute_reply": "2024-12-18T02:37:52.942129Z",
     "shell.execute_reply.started": "2024-12-18T02:37:52.831600Z"
    },
    "trusted": true
   },
   "outputs": [],
   "source": [
    "user_ratings_encoded['rating'] = user_ratings_encoded['rating'] / 10.0"
   ]
  },
  {
   "cell_type": "markdown",
   "metadata": {},
   "source": [
    "#### Split the data"
   ]
  },
  {
   "cell_type": "markdown",
   "metadata": {},
   "source": [
    "Splitting the data into training, validation, and test sets is crucial for building robust and reliable collaborative filtering models. The training set is used to train the model, the validation set is used to tune hyperparameters and prevent overfitting, and the test set is used to evaluate the  final model's performance on unseen data. By splitting the data in this way, we ensure that the model is not biased towards the training data and can generalize well to new, unseen data. The specific split ratios (80%, 10%, 10%) are common and provide a good balance between training, validation, and testing."
   ]
  },
  {
   "cell_type": "code",
   "execution_count": 31,
   "metadata": {
    "execution": {
     "iopub.execute_input": "2024-12-18T02:37:52.944534Z",
     "iopub.status.busy": "2024-12-18T02:37:52.944237Z",
     "iopub.status.idle": "2024-12-18T02:37:56.103844Z",
     "shell.execute_reply": "2024-12-18T02:37:56.102856Z",
     "shell.execute_reply.started": "2024-12-18T02:37:52.944508Z"
    },
    "trusted": true
   },
   "outputs": [],
   "source": [
    "from sklearn.model_selection import train_test_split\n",
    "\n",
    "train, temp = train_test_split(user_ratings_encoded, test_size=0.2, random_state=42)\n",
    "val, test = train_test_split(temp, test_size=0.5, random_state=42)"
   ]
  },
  {
   "cell_type": "markdown",
   "metadata": {},
   "source": [
    "#### Convert to TensorFlow datasets"
   ]
  },
  {
   "cell_type": "markdown",
   "metadata": {},
   "source": [
    "I should convert the data into TensorFlow datasets because they provide a flexible and efficient way to handle data inputs for training, validation, and testing of my machine learning models, particularly for deep learning. By creating TensorFlow datasets, I can easily shuffle the data to introduce randomness and prevent overfitting, batch the data to optimize memory usage and processing speed during training, and prefetch the data to keep the model pipeline filled and maximize GPU utilization.\n",
    "\n",
    "These features make the training process more efficient and robust, as the model can learn from the data in small, manageable batches without having to load the entire dataset into memory at once. This is particularly important for large or high-dimensional datasets, where memory constraints can become a bottleneck. By leveraging the flexibility and performance optimizations offered by TensorFlow datasets, I can streamline my machine learning workflows and improve the overall effectiveness of my models."
   ]
  },
  {
   "cell_type": "code",
   "execution_count": 32,
   "metadata": {
    "execution": {
     "iopub.execute_input": "2024-12-18T02:37:56.105225Z",
     "iopub.status.busy": "2024-12-18T02:37:56.104939Z",
     "iopub.status.idle": "2024-12-18T02:37:56.109763Z",
     "shell.execute_reply": "2024-12-18T02:37:56.108832Z",
     "shell.execute_reply.started": "2024-12-18T02:37:56.105199Z"
    },
    "trusted": true
   },
   "outputs": [],
   "source": [
    "def create_tf_dataset(data):\n",
    "    return tf.data.Dataset.from_tensor_slices((\n",
    "        {\"user_id\": data['user_id'].values, \"anime_id\": data['anime_id'].values},\n",
    "        data['rating'].values\n",
    "    ))"
   ]
  },
  {
   "cell_type": "code",
   "execution_count": 33,
   "metadata": {
    "execution": {
     "iopub.execute_input": "2024-12-18T02:37:56.110972Z",
     "iopub.status.busy": "2024-12-18T02:37:56.110760Z",
     "iopub.status.idle": "2024-12-18T02:37:57.359118Z",
     "shell.execute_reply": "2024-12-18T02:37:57.358432Z",
     "shell.execute_reply.started": "2024-12-18T02:37:56.110951Z"
    },
    "trusted": true
   },
   "outputs": [],
   "source": [
    "train_ds = create_tf_dataset(train).shuffle(100_000).batch(256).prefetch(tf.data.AUTOTUNE)\n",
    "val_ds = create_tf_dataset(val).batch(256).prefetch(tf.data.AUTOTUNE)\n",
    "test_ds = create_tf_dataset(test).batch(256).prefetch(tf.data.AUTOTUNE)"
   ]
  },
  {
   "cell_type": "markdown",
   "metadata": {},
   "source": [
    "## Modeling"
   ]
  },
  {
   "cell_type": "markdown",
   "metadata": {},
   "source": [
    "### Content-Based Filtering"
   ]
  },
  {
   "cell_type": "markdown",
   "metadata": {},
   "source": [
    "Content-based recommendation systems use the features of the items (in this case, anime) to suggest similar items to users. The similarity is computed based on various attributes such as genres, synopsis (text features), categories (e.g., type, source), and numerical features like scores and popularity.\n",
    "\n",
    "**How it works:**\n",
    "- Similarity Computation: Cosine similarity is calculated between all anime vectors in the final_features matrix. This measures the angle between vectors, where a smaller angle indicates higher similarity.\n",
    "- Recommendation Generation: For a given anime (input query), the algorithm retrieves other anime with the highest similarity scores, recommending them to the user."
   ]
  },
  {
   "cell_type": "markdown",
   "metadata": {},
   "source": [
    "**Advantages of Content-Based Recommendation Systems**\n",
    "- The system can recommend items specific to a user's preferences based solely on the item they like.\n",
    "- Since the system relies on item attributes, it can recommend items even without historical user interaction data.\n",
    "- Recommendations are explainable because they are based on specific item attributes (e.g., \"similar genre\" or \"similar synopsis\")."
   ]
  },
  {
   "cell_type": "markdown",
   "metadata": {},
   "source": [
    "**Disadvantages of Content-Based Recommendation Systems**\n",
    "- New items with insufficient or no attributes/features may not be well-represented in recommendations.\n",
    "- Recommendations can become too narrow, suggesting only items very similar to the ones the user already likes (known as the \"serendipity problem\").\n",
    "- The system's performance heavily relies on the quality and representation of the extracted features. Poor feature engineering can lead to suboptimal results."
   ]
  },
  {
   "cell_type": "code",
   "execution_count": 34,
   "metadata": {
    "execution": {
     "iopub.execute_input": "2024-12-18T02:37:57.360448Z",
     "iopub.status.busy": "2024-12-18T02:37:57.360148Z",
     "iopub.status.idle": "2024-12-18T02:38:10.687002Z",
     "shell.execute_reply": "2024-12-18T02:38:10.686289Z",
     "shell.execute_reply.started": "2024-12-18T02:37:57.360411Z"
    },
    "trusted": true
   },
   "outputs": [],
   "source": [
    "cosine_sim = cosine_similarity(final_features)"
   ]
  },
  {
   "cell_type": "code",
   "execution_count": 35,
   "metadata": {
    "execution": {
     "iopub.execute_input": "2024-12-18T02:38:10.688356Z",
     "iopub.status.busy": "2024-12-18T02:38:10.688020Z",
     "iopub.status.idle": "2024-12-18T02:38:10.692036Z",
     "shell.execute_reply": "2024-12-18T02:38:10.691143Z",
     "shell.execute_reply.started": "2024-12-18T02:38:10.688320Z"
    },
    "trusted": true
   },
   "outputs": [],
   "source": [
    "# import joblib\n",
    "\n",
    "# # Save the cosine similarity matrix as a file\n",
    "# joblib.dump(cosine_sim, 'CB_Model.pkl')\n"
   ]
  },
  {
   "cell_type": "code",
   "execution_count": 36,
   "metadata": {
    "execution": {
     "iopub.execute_input": "2024-12-18T02:38:10.693192Z",
     "iopub.status.busy": "2024-12-18T02:38:10.692957Z",
     "iopub.status.idle": "2024-12-18T02:38:10.722552Z",
     "shell.execute_reply": "2024-12-18T02:38:10.721665Z",
     "shell.execute_reply.started": "2024-12-18T02:38:10.693171Z"
    },
    "trusted": true
   },
   "outputs": [
    {
     "name": "stdout",
     "output_type": "stream",
     "text": [
      "Shape: (24905, 24905)\n"
     ]
    },
    {
     "data": {
      "text/html": [
       "<div>\n",
       "<style scoped>\n",
       "    .dataframe tbody tr th:only-of-type {\n",
       "        vertical-align: middle;\n",
       "    }\n",
       "\n",
       "    .dataframe tbody tr th {\n",
       "        vertical-align: top;\n",
       "    }\n",
       "\n",
       "    .dataframe thead th {\n",
       "        text-align: right;\n",
       "    }\n",
       "</style>\n",
       "<table border=\"1\" class=\"dataframe\">\n",
       "  <thead>\n",
       "    <tr style=\"text-align: right;\">\n",
       "      <th>Name</th>\n",
       "      <th>Imokawa Mukuzo: Genkanban no Maki</th>\n",
       "      <th>Juusenshi Gulkeeva</th>\n",
       "      <th>Hua Jianghu: Bu Liang Ren IV</th>\n",
       "      <th>Lost Utopia</th>\n",
       "      <th>Gintama: Monster Strike-hen</th>\n",
       "      <th>Yajikita Gakuen Douchuuki</th>\n",
       "      <th>Choujuu Giga</th>\n",
       "      <th>Hametarou</th>\n",
       "      <th>Koume-chan ga Iku!</th>\n",
       "      <th>RD Sennou Chousashitsu</th>\n",
       "    </tr>\n",
       "    <tr>\n",
       "      <th>Name</th>\n",
       "      <th></th>\n",
       "      <th></th>\n",
       "      <th></th>\n",
       "      <th></th>\n",
       "      <th></th>\n",
       "      <th></th>\n",
       "      <th></th>\n",
       "      <th></th>\n",
       "      <th></th>\n",
       "      <th></th>\n",
       "    </tr>\n",
       "  </thead>\n",
       "  <tbody>\n",
       "    <tr>\n",
       "      <th>Kochira Katsushikaku Kameari Kouenmae Hashutsujo The Movie</th>\n",
       "      <td>0.264118</td>\n",
       "      <td>0.274418</td>\n",
       "      <td>0.077870</td>\n",
       "      <td>0.182517</td>\n",
       "      <td>0.570386</td>\n",
       "      <td>0.249386</td>\n",
       "      <td>0.119318</td>\n",
       "      <td>-0.196820</td>\n",
       "      <td>0.363538</td>\n",
       "      <td>0.306682</td>\n",
       "    </tr>\n",
       "    <tr>\n",
       "      <th>Sonyeon 007 Jihajeguk</th>\n",
       "      <td>0.090588</td>\n",
       "      <td>-0.018034</td>\n",
       "      <td>-0.065454</td>\n",
       "      <td>0.245008</td>\n",
       "      <td>-0.145958</td>\n",
       "      <td>0.049939</td>\n",
       "      <td>-0.157251</td>\n",
       "      <td>0.406618</td>\n",
       "      <td>-0.094075</td>\n",
       "      <td>-0.019988</td>\n",
       "    </tr>\n",
       "    <tr>\n",
       "      <th>Youkai Watch: Best 10</th>\n",
       "      <td>0.236310</td>\n",
       "      <td>0.050909</td>\n",
       "      <td>0.064760</td>\n",
       "      <td>0.175918</td>\n",
       "      <td>0.194560</td>\n",
       "      <td>0.038901</td>\n",
       "      <td>0.045221</td>\n",
       "      <td>0.068311</td>\n",
       "      <td>0.184488</td>\n",
       "      <td>0.042653</td>\n",
       "    </tr>\n",
       "    <tr>\n",
       "      <th>Fanqie Jiang</th>\n",
       "      <td>0.093013</td>\n",
       "      <td>0.093346</td>\n",
       "      <td>0.095924</td>\n",
       "      <td>-0.041250</td>\n",
       "      <td>-0.316371</td>\n",
       "      <td>-0.108031</td>\n",
       "      <td>-0.182696</td>\n",
       "      <td>0.571992</td>\n",
       "      <td>0.026855</td>\n",
       "      <td>-0.104294</td>\n",
       "    </tr>\n",
       "    <tr>\n",
       "      <th>Majutsushi Orphen</th>\n",
       "      <td>0.200495</td>\n",
       "      <td>0.485183</td>\n",
       "      <td>0.118410</td>\n",
       "      <td>0.280055</td>\n",
       "      <td>0.465629</td>\n",
       "      <td>0.360008</td>\n",
       "      <td>0.148916</td>\n",
       "      <td>-0.230062</td>\n",
       "      <td>0.299237</td>\n",
       "      <td>0.481021</td>\n",
       "    </tr>\n",
       "    <tr>\n",
       "      <th>Saki Picture Drama</th>\n",
       "      <td>0.234409</td>\n",
       "      <td>0.093956</td>\n",
       "      <td>0.030228</td>\n",
       "      <td>0.023043</td>\n",
       "      <td>0.440740</td>\n",
       "      <td>0.229727</td>\n",
       "      <td>0.097947</td>\n",
       "      <td>-0.024087</td>\n",
       "      <td>0.484621</td>\n",
       "      <td>0.170702</td>\n",
       "    </tr>\n",
       "    <tr>\n",
       "      <th>Puchitto Gargantia: Marumaru no Gargantia</th>\n",
       "      <td>0.426842</td>\n",
       "      <td>0.236894</td>\n",
       "      <td>0.175184</td>\n",
       "      <td>0.020967</td>\n",
       "      <td>0.285127</td>\n",
       "      <td>0.056335</td>\n",
       "      <td>0.087117</td>\n",
       "      <td>0.144299</td>\n",
       "      <td>0.196723</td>\n",
       "      <td>0.553813</td>\n",
       "    </tr>\n",
       "    <tr>\n",
       "      <th>Oniichan dakedo Ai sae Areba Kankeinai yo ne!</th>\n",
       "      <td>0.189697</td>\n",
       "      <td>0.248120</td>\n",
       "      <td>0.085199</td>\n",
       "      <td>0.027556</td>\n",
       "      <td>0.375924</td>\n",
       "      <td>0.069355</td>\n",
       "      <td>0.267280</td>\n",
       "      <td>-0.218882</td>\n",
       "      <td>0.414469</td>\n",
       "      <td>0.391937</td>\n",
       "    </tr>\n",
       "    <tr>\n",
       "      <th>Hen (Music)</th>\n",
       "      <td>0.254697</td>\n",
       "      <td>-0.041965</td>\n",
       "      <td>0.101401</td>\n",
       "      <td>-0.007461</td>\n",
       "      <td>-0.342118</td>\n",
       "      <td>-0.107417</td>\n",
       "      <td>-0.184576</td>\n",
       "      <td>0.695030</td>\n",
       "      <td>-0.098140</td>\n",
       "      <td>-0.234231</td>\n",
       "    </tr>\n",
       "    <tr>\n",
       "      <th>Getter Robo Arc</th>\n",
       "      <td>0.043882</td>\n",
       "      <td>0.406040</td>\n",
       "      <td>0.023881</td>\n",
       "      <td>0.179085</td>\n",
       "      <td>0.446211</td>\n",
       "      <td>0.230226</td>\n",
       "      <td>0.101327</td>\n",
       "      <td>-0.173011</td>\n",
       "      <td>0.345852</td>\n",
       "      <td>0.585299</td>\n",
       "    </tr>\n",
       "  </tbody>\n",
       "</table>\n",
       "</div>"
      ],
      "text/plain": [
       "Name                                                Imokawa Mukuzo: Genkanban no Maki  \\\n",
       "Name                                                                                    \n",
       "Kochira Katsushikaku Kameari Kouenmae Hashutsuj...                           0.264118   \n",
       "Sonyeon 007 Jihajeguk                                                        0.090588   \n",
       "Youkai Watch: Best 10                                                        0.236310   \n",
       "Fanqie Jiang                                                                 0.093013   \n",
       "Majutsushi Orphen                                                            0.200495   \n",
       "Saki Picture Drama                                                           0.234409   \n",
       "Puchitto Gargantia: Marumaru no Gargantia                                    0.426842   \n",
       "Oniichan dakedo Ai sae Areba Kankeinai yo ne!                                0.189697   \n",
       "Hen (Music)                                                                  0.254697   \n",
       "Getter Robo Arc                                                              0.043882   \n",
       "\n",
       "Name                                                Juusenshi Gulkeeva  \\\n",
       "Name                                                                     \n",
       "Kochira Katsushikaku Kameari Kouenmae Hashutsuj...            0.274418   \n",
       "Sonyeon 007 Jihajeguk                                        -0.018034   \n",
       "Youkai Watch: Best 10                                         0.050909   \n",
       "Fanqie Jiang                                                  0.093346   \n",
       "Majutsushi Orphen                                             0.485183   \n",
       "Saki Picture Drama                                            0.093956   \n",
       "Puchitto Gargantia: Marumaru no Gargantia                     0.236894   \n",
       "Oniichan dakedo Ai sae Areba Kankeinai yo ne!                 0.248120   \n",
       "Hen (Music)                                                  -0.041965   \n",
       "Getter Robo Arc                                               0.406040   \n",
       "\n",
       "Name                                                Hua Jianghu: Bu Liang Ren IV  \\\n",
       "Name                                                                               \n",
       "Kochira Katsushikaku Kameari Kouenmae Hashutsuj...                      0.077870   \n",
       "Sonyeon 007 Jihajeguk                                                  -0.065454   \n",
       "Youkai Watch: Best 10                                                   0.064760   \n",
       "Fanqie Jiang                                                            0.095924   \n",
       "Majutsushi Orphen                                                       0.118410   \n",
       "Saki Picture Drama                                                      0.030228   \n",
       "Puchitto Gargantia: Marumaru no Gargantia                               0.175184   \n",
       "Oniichan dakedo Ai sae Areba Kankeinai yo ne!                           0.085199   \n",
       "Hen (Music)                                                             0.101401   \n",
       "Getter Robo Arc                                                         0.023881   \n",
       "\n",
       "Name                                                Lost Utopia  \\\n",
       "Name                                                              \n",
       "Kochira Katsushikaku Kameari Kouenmae Hashutsuj...     0.182517   \n",
       "Sonyeon 007 Jihajeguk                                  0.245008   \n",
       "Youkai Watch: Best 10                                  0.175918   \n",
       "Fanqie Jiang                                          -0.041250   \n",
       "Majutsushi Orphen                                      0.280055   \n",
       "Saki Picture Drama                                     0.023043   \n",
       "Puchitto Gargantia: Marumaru no Gargantia              0.020967   \n",
       "Oniichan dakedo Ai sae Areba Kankeinai yo ne!          0.027556   \n",
       "Hen (Music)                                           -0.007461   \n",
       "Getter Robo Arc                                        0.179085   \n",
       "\n",
       "Name                                                Gintama: Monster Strike-hen  \\\n",
       "Name                                                                              \n",
       "Kochira Katsushikaku Kameari Kouenmae Hashutsuj...                     0.570386   \n",
       "Sonyeon 007 Jihajeguk                                                 -0.145958   \n",
       "Youkai Watch: Best 10                                                  0.194560   \n",
       "Fanqie Jiang                                                          -0.316371   \n",
       "Majutsushi Orphen                                                      0.465629   \n",
       "Saki Picture Drama                                                     0.440740   \n",
       "Puchitto Gargantia: Marumaru no Gargantia                              0.285127   \n",
       "Oniichan dakedo Ai sae Areba Kankeinai yo ne!                          0.375924   \n",
       "Hen (Music)                                                           -0.342118   \n",
       "Getter Robo Arc                                                        0.446211   \n",
       "\n",
       "Name                                                Yajikita Gakuen Douchuuki  \\\n",
       "Name                                                                            \n",
       "Kochira Katsushikaku Kameari Kouenmae Hashutsuj...                   0.249386   \n",
       "Sonyeon 007 Jihajeguk                                                0.049939   \n",
       "Youkai Watch: Best 10                                                0.038901   \n",
       "Fanqie Jiang                                                        -0.108031   \n",
       "Majutsushi Orphen                                                    0.360008   \n",
       "Saki Picture Drama                                                   0.229727   \n",
       "Puchitto Gargantia: Marumaru no Gargantia                            0.056335   \n",
       "Oniichan dakedo Ai sae Areba Kankeinai yo ne!                        0.069355   \n",
       "Hen (Music)                                                         -0.107417   \n",
       "Getter Robo Arc                                                      0.230226   \n",
       "\n",
       "Name                                                Choujuu Giga  Hametarou  \\\n",
       "Name                                                                          \n",
       "Kochira Katsushikaku Kameari Kouenmae Hashutsuj...      0.119318  -0.196820   \n",
       "Sonyeon 007 Jihajeguk                                  -0.157251   0.406618   \n",
       "Youkai Watch: Best 10                                   0.045221   0.068311   \n",
       "Fanqie Jiang                                           -0.182696   0.571992   \n",
       "Majutsushi Orphen                                       0.148916  -0.230062   \n",
       "Saki Picture Drama                                      0.097947  -0.024087   \n",
       "Puchitto Gargantia: Marumaru no Gargantia               0.087117   0.144299   \n",
       "Oniichan dakedo Ai sae Areba Kankeinai yo ne!           0.267280  -0.218882   \n",
       "Hen (Music)                                            -0.184576   0.695030   \n",
       "Getter Robo Arc                                         0.101327  -0.173011   \n",
       "\n",
       "Name                                                Koume-chan ga Iku!  \\\n",
       "Name                                                                     \n",
       "Kochira Katsushikaku Kameari Kouenmae Hashutsuj...            0.363538   \n",
       "Sonyeon 007 Jihajeguk                                        -0.094075   \n",
       "Youkai Watch: Best 10                                         0.184488   \n",
       "Fanqie Jiang                                                  0.026855   \n",
       "Majutsushi Orphen                                             0.299237   \n",
       "Saki Picture Drama                                            0.484621   \n",
       "Puchitto Gargantia: Marumaru no Gargantia                     0.196723   \n",
       "Oniichan dakedo Ai sae Areba Kankeinai yo ne!                 0.414469   \n",
       "Hen (Music)                                                  -0.098140   \n",
       "Getter Robo Arc                                               0.345852   \n",
       "\n",
       "Name                                                RD Sennou Chousashitsu  \n",
       "Name                                                                        \n",
       "Kochira Katsushikaku Kameari Kouenmae Hashutsuj...                0.306682  \n",
       "Sonyeon 007 Jihajeguk                                            -0.019988  \n",
       "Youkai Watch: Best 10                                             0.042653  \n",
       "Fanqie Jiang                                                     -0.104294  \n",
       "Majutsushi Orphen                                                 0.481021  \n",
       "Saki Picture Drama                                                0.170702  \n",
       "Puchitto Gargantia: Marumaru no Gargantia                         0.553813  \n",
       "Oniichan dakedo Ai sae Areba Kankeinai yo ne!                     0.391937  \n",
       "Hen (Music)                                                      -0.234231  \n",
       "Getter Robo Arc                                                   0.585299  "
      ]
     },
     "execution_count": 36,
     "metadata": {},
     "output_type": "execute_result"
    }
   ],
   "source": [
    "cosine_sim_df = pd.DataFrame(cosine_sim, index=anime_filtered['Name'], columns=anime_filtered['Name'])\n",
    "print('Shape:', cosine_sim_df.shape)\n",
    " \n",
    "\n",
    "cosine_sim_df.sample(10, axis=1).sample(10, axis=0)"
   ]
  },
  {
   "cell_type": "markdown",
   "metadata": {},
   "source": [
    "### Collaborative Filtering"
   ]
  },
  {
   "cell_type": "markdown",
   "metadata": {},
   "source": [
    "Collaborative filtering focuses on user-item interactions to generate recommendations. It predicts a user's preferences based on their past interactions and the interactions of similar users or items. In my implementation, I use matrix factorization with embeddings to model these interactions."
   ]
  },
  {
   "cell_type": "markdown",
   "metadata": {},
   "source": [
    "Here's a breakdown of the algorithm:\n",
    "- User and Item Embeddings:  \n",
    "Each user (user_id) and anime (anime_id) is represented as a learned embedding vector of fixed size (embedding_dim).\n",
    "These embeddings capture latent features that represent preferences (for users) or characteristics (for anime).\n",
    "- Embedding Combination:  \n",
    "The user and anime embeddings are concatenated to form a single feature vector representing the interaction between the user and the anime.\n",
    "- Feedforward Network:  \n",
    "This concatenated vector is passed through dense layers with dropout regularization to predict the rating. The layers learn complex, non-linear relationships between the user and anime embeddings.\n",
    "- Output Layer:  \n",
    "The output layer has a single neuron that predicts a scalar value (the rating).\n",
    "- Training:  \n",
    "The model is trained on known user-anime ratings to minimize the error (e.g., mean squared error). Metrics like mean absolute error (MAE) and root mean squared error (RMSE) are used to evaluate performance.\n",
    "- Prediction:  \n",
    "For unseen user-anime pairs, the model predicts ratings based on learned embeddings and feedforward layers."
   ]
  },
  {
   "cell_type": "markdown",
   "metadata": {},
   "source": [
    "**Advantages of Collaborative Filtering**\n",
    "- Personalized Recommendations:\n",
    "    - It uses actual user behavior (ratings or interactions), resulting in highly personalized recommendations.\n",
    "- Domain Independence:\n",
    "    - Unlike content-based systems, it does not require domain-specific features (e.g., synopsis, genres). It solely relies on the interaction matrix.\n",
    "- Serendipity:\n",
    "    - Can recommend items a user might not have explicitly searched for but would enjoy based on similar users/items."
   ]
  },
  {
   "cell_type": "markdown",
   "metadata": {},
   "source": [
    "**Disadvantages of Collaborative Filtering**\n",
    "- Cold Start Problem:\n",
    "    - Struggles with new users or items due to a lack of historical interaction data.\n",
    "    - This is especially challenging in sparse datasets where most users or items have limited ratings.\n",
    "- Scalability:\n",
    "    - Requires substantial computational resources for large datasets. In your case, with over 24 million user-anime interactions, training the model and computing predictions can be computationally expensive.\n",
    "- Data Sparsity:\n",
    "    - When the interaction matrix is sparse (i.e., most users rate only a few items), it may fail to capture meaningful patterns, leading to suboptimal recommendations."
   ]
  },
  {
   "cell_type": "markdown",
   "metadata": {},
   "source": [
    "#### Define the embedding sizes"
   ]
  },
  {
   "cell_type": "code",
   "execution_count": 37,
   "metadata": {
    "execution": {
     "iopub.execute_input": "2024-12-18T02:38:10.723647Z",
     "iopub.status.busy": "2024-12-18T02:38:10.723416Z",
     "iopub.status.idle": "2024-12-18T02:38:10.728172Z",
     "shell.execute_reply": "2024-12-18T02:38:10.727315Z",
     "shell.execute_reply.started": "2024-12-18T02:38:10.723625Z"
    },
    "trusted": true
   },
   "outputs": [],
   "source": [
    "num_users = user_lookup.vocabulary_size()\n",
    "num_animes = anime_lookup.vocabulary_size()\n"
   ]
  },
  {
   "cell_type": "markdown",
   "metadata": {},
   "source": [
    "#### Build the model"
   ]
  },
  {
   "cell_type": "code",
   "execution_count": 38,
   "metadata": {
    "execution": {
     "iopub.execute_input": "2024-12-18T02:38:10.729658Z",
     "iopub.status.busy": "2024-12-18T02:38:10.729303Z",
     "iopub.status.idle": "2024-12-18T02:38:10.772971Z",
     "shell.execute_reply": "2024-12-18T02:38:10.772246Z",
     "shell.execute_reply.started": "2024-12-18T02:38:10.729624Z"
    },
    "trusted": true
   },
   "outputs": [],
   "source": [
    "class CollaborativeFilteringModel(tf.keras.Model):\n",
    "    def __init__(self, num_users, num_animes, embedding_dim):\n",
    "        super().__init__()\n",
    "        self.user_embedding = tf.keras.layers.Embedding(\n",
    "            num_users, embedding_dim, embeddings_regularizer=tf.keras.regularizers.l2(1e-6)\n",
    "        )\n",
    "        self.anime_embedding = tf.keras.layers.Embedding(\n",
    "            num_animes, embedding_dim, embeddings_regularizer=tf.keras.regularizers.l2(1e-6)\n",
    "        )\n",
    "        self.dense1 = tf.keras.layers.Dense(128, activation='relu', kernel_regularizer=tf.keras.regularizers.l2(1e-6))\n",
    "        self.dropout1 = tf.keras.layers.Dropout(0.2)  # Prevent overfitting\n",
    "        self.dense2 = tf.keras.layers.Dense(64, activation='relu', kernel_regularizer=tf.keras.regularizers.l2(1e-6))\n",
    "        self.dropout2 = tf.keras.layers.Dropout(0.2)\n",
    "        self.output_layer = tf.keras.layers.Dense(1)  # Single neuron for rating prediction\n",
    "\n",
    "    def call(self, inputs):\n",
    "        user_id, anime_id = inputs['user_id'], inputs['anime_id']\n",
    "        user_vector = self.user_embedding(user_id)\n",
    "        anime_vector = self.anime_embedding(anime_id)\n",
    "        x = tf.concat([user_vector, anime_vector], axis=1)\n",
    "        x = self.dense1(x)\n",
    "        x = self.dropout1(x)\n",
    "        x = self.dense2(x)\n",
    "        x = self.dropout2(x)\n",
    "        return self.output_layer(x)\n",
    "\n",
    "model = CollaborativeFilteringModel(num_users, num_animes, embedding_dim=64)\n",
    "model.compile(\n",
    "    optimizer=tf.keras.optimizers.Adam(learning_rate=0.0007),\n",
    "    loss='mean_squared_error',\n",
    "    metrics=[tf.keras.metrics.MeanAbsoluteError(),\n",
    "        tf.keras.metrics.RootMeanSquaredError()]\n",
    ")\n"
   ]
  },
  {
   "cell_type": "markdown",
   "metadata": {},
   "source": [
    "##### Explanation of the Components\n",
    "**Embedding Layers:**  \n",
    "These layers learn dense representations of users and items that capture latent features.\n",
    "\n",
    "**Dense Layers:**  \n",
    "These layers learn non-linear interactions between the latent features.\n",
    "\n",
    "**Output Layer:**  \n",
    "Produces the predicted rating, which is a continuous value.\n",
    "\n",
    "**Callbacks:**  \n",
    "- EarlyStopping: Stops training if validation loss doesn't improve for a set number of epochs.\n",
    "- ReduceLROnPlateau: Reduces the learning rate when the validation performance plateaus."
   ]
  },
  {
   "cell_type": "markdown",
   "metadata": {},
   "source": [
    "#### Train the model"
   ]
  },
  {
   "cell_type": "code",
   "execution_count": 39,
   "metadata": {
    "execution": {
     "iopub.execute_input": "2024-12-18T02:38:10.774201Z",
     "iopub.status.busy": "2024-12-18T02:38:10.773934Z",
     "iopub.status.idle": "2024-12-18T03:18:39.007871Z",
     "shell.execute_reply": "2024-12-18T03:18:39.007090Z",
     "shell.execute_reply.started": "2024-12-18T02:38:10.774177Z"
    },
    "trusted": true
   },
   "outputs": [
    {
     "name": "stdout",
     "output_type": "stream",
     "text": [
      "Epoch 1/10\n"
     ]
    },
    {
     "name": "stderr",
     "output_type": "stream",
     "text": [
      "WARNING: All log messages before absl::InitializeLog() is called are written to STDERR\n",
      "I0000 00:00:1734489492.625183      89 service.cc:145] XLA service 0x7d9d940020d0 initialized for platform CUDA (this does not guarantee that XLA will be used). Devices:\n",
      "I0000 00:00:1734489492.625248      89 service.cc:153]   StreamExecutor device (0): Tesla P100-PCIE-16GB, Compute Capability 6.0\n"
     ]
    },
    {
     "name": "stdout",
     "output_type": "stream",
     "text": [
      "\u001b[1m   51/76017\u001b[0m \u001b[37m━━━━━━━━━━━━━━━━━━━━\u001b[0m \u001b[1m3:56\u001b[0m 3ms/step - loss: 0.4343 - mean_absolute_error: 0.6023 - root_mean_squared_error: 0.6412 "
     ]
    },
    {
     "name": "stderr",
     "output_type": "stream",
     "text": [
      "I0000 00:00:1734489493.854277      89 device_compiler.h:188] Compiled cluster using XLA!  This line is logged at most once for the lifetime of the process.\n"
     ]
    },
    {
     "name": "stdout",
     "output_type": "stream",
     "text": [
      "\u001b[1m76017/76017\u001b[0m \u001b[32m━━━━━━━━━━━━━━━━━━━━\u001b[0m\u001b[37m\u001b[0m \u001b[1m244s\u001b[0m 3ms/step - loss: 0.0222 - mean_absolute_error: 0.1062 - root_mean_squared_error: 0.1405 - val_loss: 0.0187 - val_mean_absolute_error: 0.1000 - val_root_mean_squared_error: 0.1318 - learning_rate: 7.0000e-04\n",
      "Epoch 2/10\n",
      "\u001b[1m76017/76017\u001b[0m \u001b[32m━━━━━━━━━━━━━━━━━━━━\u001b[0m\u001b[37m\u001b[0m \u001b[1m243s\u001b[0m 3ms/step - loss: 0.0188 - mean_absolute_error: 0.1001 - root_mean_squared_error: 0.1318 - val_loss: 0.0189 - val_mean_absolute_error: 0.1006 - val_root_mean_squared_error: 0.1318 - learning_rate: 7.0000e-04\n",
      "Epoch 3/10\n",
      "\u001b[1m76017/76017\u001b[0m \u001b[32m━━━━━━━━━━━━━━━━━━━━\u001b[0m\u001b[37m\u001b[0m \u001b[1m244s\u001b[0m 3ms/step - loss: 0.0189 - mean_absolute_error: 0.1000 - root_mean_squared_error: 0.1317 - val_loss: 0.0189 - val_mean_absolute_error: 0.1002 - val_root_mean_squared_error: 0.1317 - learning_rate: 7.0000e-04\n",
      "Epoch 4/10\n",
      "\u001b[1m76017/76017\u001b[0m \u001b[32m━━━━━━━━━━━━━━━━━━━━\u001b[0m\u001b[37m\u001b[0m \u001b[1m244s\u001b[0m 3ms/step - loss: 0.0176 - mean_absolute_error: 0.0976 - root_mean_squared_error: 0.1290 - val_loss: 0.0170 - val_mean_absolute_error: 0.0968 - val_root_mean_squared_error: 0.1281 - learning_rate: 2.1000e-04\n",
      "Epoch 5/10\n",
      "\u001b[1m76017/76017\u001b[0m \u001b[32m━━━━━━━━━━━━━━━━━━━━\u001b[0m\u001b[37m\u001b[0m \u001b[1m241s\u001b[0m 3ms/step - loss: 0.0170 - mean_absolute_error: 0.0968 - root_mean_squared_error: 0.1281 - val_loss: 0.0170 - val_mean_absolute_error: 0.0968 - val_root_mean_squared_error: 0.1282 - learning_rate: 2.1000e-04\n",
      "Epoch 6/10\n",
      "\u001b[1m76017/76017\u001b[0m \u001b[32m━━━━━━━━━━━━━━━━━━━━\u001b[0m\u001b[37m\u001b[0m \u001b[1m243s\u001b[0m 3ms/step - loss: 0.0170 - mean_absolute_error: 0.0969 - root_mean_squared_error: 0.1282 - val_loss: 0.0170 - val_mean_absolute_error: 0.0968 - val_root_mean_squared_error: 0.1282 - learning_rate: 2.1000e-04\n",
      "Epoch 7/10\n",
      "\u001b[1m76017/76017\u001b[0m \u001b[32m━━━━━━━━━━━━━━━━━━━━\u001b[0m\u001b[37m\u001b[0m \u001b[1m242s\u001b[0m 3ms/step - loss: 0.0165 - mean_absolute_error: 0.0954 - root_mean_squared_error: 0.1265 - val_loss: 0.0162 - val_mean_absolute_error: 0.0947 - val_root_mean_squared_error: 0.1258 - learning_rate: 6.3000e-05\n",
      "Epoch 8/10\n",
      "\u001b[1m76017/76017\u001b[0m \u001b[32m━━━━━━━━━━━━━━━━━━━━\u001b[0m\u001b[37m\u001b[0m \u001b[1m241s\u001b[0m 3ms/step - loss: 0.0160 - mean_absolute_error: 0.0941 - root_mean_squared_error: 0.1250 - val_loss: 0.0161 - val_mean_absolute_error: 0.0943 - val_root_mean_squared_error: 0.1255 - learning_rate: 6.3000e-05\n",
      "Epoch 9/10\n",
      "\u001b[1m76017/76017\u001b[0m \u001b[32m━━━━━━━━━━━━━━━━━━━━\u001b[0m\u001b[37m\u001b[0m \u001b[1m243s\u001b[0m 3ms/step - loss: 0.0159 - mean_absolute_error: 0.0938 - root_mean_squared_error: 0.1247 - val_loss: 0.0161 - val_mean_absolute_error: 0.0949 - val_root_mean_squared_error: 0.1255 - learning_rate: 6.3000e-05\n",
      "Epoch 10/10\n",
      "\u001b[1m76017/76017\u001b[0m \u001b[32m━━━━━━━━━━━━━━━━━━━━\u001b[0m\u001b[37m\u001b[0m \u001b[1m242s\u001b[0m 3ms/step - loss: 0.0159 - mean_absolute_error: 0.0936 - root_mean_squared_error: 0.1245 - val_loss: 0.0161 - val_mean_absolute_error: 0.0945 - val_root_mean_squared_error: 0.1253 - learning_rate: 6.3000e-05\n"
     ]
    }
   ],
   "source": [
    "# Step 4: Train the model\n",
    "history = model.fit(\n",
    "    train_ds,\n",
    "    validation_data=val_ds,\n",
    "    epochs=10,  # Adjust epochs as needed\n",
    "    callbacks=[\n",
    "        tf.keras.callbacks.ReduceLROnPlateau(factor=0.3, patience=2)\n",
    "    ]\n",
    ")"
   ]
  },
  {
   "cell_type": "code",
   "execution_count": 40,
   "metadata": {
    "execution": {
     "iopub.execute_input": "2024-12-18T03:18:39.009826Z",
     "iopub.status.busy": "2024-12-18T03:18:39.009091Z",
     "iopub.status.idle": "2024-12-18T03:18:39.013541Z",
     "shell.execute_reply": "2024-12-18T03:18:39.012694Z",
     "shell.execute_reply.started": "2024-12-18T03:18:39.009782Z"
    },
    "trusted": true
   },
   "outputs": [],
   "source": [
    "# model.save('CF_Model')"
   ]
  },
  {
   "cell_type": "markdown",
   "metadata": {},
   "source": [
    "## Evaluation"
   ]
  },
  {
   "cell_type": "markdown",
   "metadata": {},
   "source": [
    "### Content-Based Filtering"
   ]
  },
  {
   "cell_type": "code",
   "execution_count": 41,
   "metadata": {
    "execution": {
     "iopub.execute_input": "2024-12-18T03:18:39.014890Z",
     "iopub.status.busy": "2024-12-18T03:18:39.014576Z",
     "iopub.status.idle": "2024-12-18T03:18:39.038570Z",
     "shell.execute_reply": "2024-12-18T03:18:39.037785Z",
     "shell.execute_reply.started": "2024-12-18T03:18:39.014840Z"
    },
    "trusted": true
   },
   "outputs": [
    {
     "data": {
      "text/html": [
       "<div>\n",
       "<style scoped>\n",
       "    .dataframe tbody tr th:only-of-type {\n",
       "        vertical-align: middle;\n",
       "    }\n",
       "\n",
       "    .dataframe tbody tr th {\n",
       "        vertical-align: top;\n",
       "    }\n",
       "\n",
       "    .dataframe thead th {\n",
       "        text-align: right;\n",
       "    }\n",
       "</style>\n",
       "<table border=\"1\" class=\"dataframe\">\n",
       "  <thead>\n",
       "    <tr style=\"text-align: right;\">\n",
       "      <th></th>\n",
       "      <th>anime_id</th>\n",
       "      <th>Name</th>\n",
       "      <th>English name</th>\n",
       "      <th>Other name</th>\n",
       "      <th>Score</th>\n",
       "      <th>Genres</th>\n",
       "      <th>Synopsis</th>\n",
       "      <th>Type</th>\n",
       "      <th>Episodes</th>\n",
       "      <th>Aired</th>\n",
       "      <th>...</th>\n",
       "      <th>Studios</th>\n",
       "      <th>Source</th>\n",
       "      <th>Duration</th>\n",
       "      <th>Rating</th>\n",
       "      <th>Rank</th>\n",
       "      <th>Popularity</th>\n",
       "      <th>Favorites</th>\n",
       "      <th>Scored By</th>\n",
       "      <th>Members</th>\n",
       "      <th>Image URL</th>\n",
       "    </tr>\n",
       "  </thead>\n",
       "  <tbody>\n",
       "    <tr>\n",
       "      <th>5667</th>\n",
       "      <td>9253</td>\n",
       "      <td>Steins;Gate</td>\n",
       "      <td>Steins;Gate</td>\n",
       "      <td>STEINS;GATE</td>\n",
       "      <td>9.07</td>\n",
       "      <td>Drama, Sci-Fi, Suspense</td>\n",
       "      <td>Eccentric scientist Rintarou Okabe has a never...</td>\n",
       "      <td>TV</td>\n",
       "      <td>24.0</td>\n",
       "      <td>Apr 6, 2011 to Sep 14, 2011</td>\n",
       "      <td>...</td>\n",
       "      <td>White Fox</td>\n",
       "      <td>Visual novel</td>\n",
       "      <td>24 min per ep</td>\n",
       "      <td>PG-13 - Teens 13 or older</td>\n",
       "      <td>3.0</td>\n",
       "      <td>13</td>\n",
       "      <td>182964</td>\n",
       "      <td>1336233.0</td>\n",
       "      <td>2440369</td>\n",
       "      <td>https://cdn.myanimelist.net/images/anime/1935/...</td>\n",
       "    </tr>\n",
       "  </tbody>\n",
       "</table>\n",
       "<p>1 rows × 24 columns</p>\n",
       "</div>"
      ],
      "text/plain": [
       "      anime_id         Name English name   Other name Score  \\\n",
       "5667      9253  Steins;Gate  Steins;Gate  STEINS;GATE  9.07   \n",
       "\n",
       "                       Genres  \\\n",
       "5667  Drama, Sci-Fi, Suspense   \n",
       "\n",
       "                                               Synopsis Type Episodes  \\\n",
       "5667  Eccentric scientist Rintarou Okabe has a never...   TV     24.0   \n",
       "\n",
       "                            Aired  ...    Studios        Source  \\\n",
       "5667  Apr 6, 2011 to Sep 14, 2011  ...  White Fox  Visual novel   \n",
       "\n",
       "           Duration                     Rating Rank Popularity Favorites  \\\n",
       "5667  24 min per ep  PG-13 - Teens 13 or older  3.0         13    182964   \n",
       "\n",
       "      Scored By  Members                                          Image URL  \n",
       "5667  1336233.0  2440369  https://cdn.myanimelist.net/images/anime/1935/...  \n",
       "\n",
       "[1 rows x 24 columns]"
      ]
     },
     "execution_count": 41,
     "metadata": {},
     "output_type": "execute_result"
    }
   ],
   "source": [
    "anime[anime.Name.eq(\"Steins;Gate\")]"
   ]
  },
  {
   "cell_type": "code",
   "execution_count": 42,
   "metadata": {
    "execution": {
     "iopub.execute_input": "2024-12-18T03:18:39.039699Z",
     "iopub.status.busy": "2024-12-18T03:18:39.039488Z",
     "iopub.status.idle": "2024-12-18T03:18:39.087834Z",
     "shell.execute_reply": "2024-12-18T03:18:39.087055Z",
     "shell.execute_reply.started": "2024-12-18T03:18:39.039678Z"
    },
    "trusted": true
   },
   "outputs": [
    {
     "name": "stdout",
     "output_type": "stream",
     "text": [
      "+-------------------------------------------------------------+-------+----------------------------------+----------------+\n",
      "|                         Anime Name                          | Score |            Genre_List            | Similarity (%) |\n",
      "+-------------------------------------------------------------+-------+----------------------------------+----------------+\n",
      "|                        Steins;Gate 0                        | 8.53  | ['Drama', 'Sci-Fi', 'Suspense']  |     93.35      |\n",
      "|         Steins;Gate Movie: Fuka Ryouiki no Déjà vu          | 8.45  |       ['Drama', 'Sci-Fi']        |     84.15      |\n",
      "| Steins;Gate: Kyoukaimenjou no Missing Link - Divide By Zero | 8.25  |      ['Sci-Fi', 'Suspense']      |     79.25      |\n",
      "|      Re:Zero kara Hajimeru Isekai Seikatsu 2nd Season       | 8.34  | ['Drama', 'Fantasy', 'Suspense'] |     76.55      |\n",
      "|   Re:Zero kara Hajimeru Isekai Seikatsu 2nd Season Part 2   | 8.44  | ['Drama', 'Fantasy', 'Suspense'] |      75.9      |\n",
      "|         Kono Yo no Hate de Koi wo Utau Shoujo YU-NO         | 6.58  |       ['Drama', 'Sci-Fi']        |     75.12      |\n",
      "|            Re:Zero kara Hajimeru Isekai Seikatsu            | 8.23  | ['Drama', 'Fantasy', 'Suspense'] |     75.07      |\n",
      "|                         Island (TV)                         | 6.31  |       ['Drama', 'Sci-Fi']        |     74.96      |\n",
      "|              Phantom: Requiem for the Phantom               | 7.94  | ['Action', 'Drama', 'Suspense']  |     74.52      |\n",
      "|                       Robotics;Notes                        | 7.32  |  ['Drama', 'Mystery', 'Sci-Fi']  |     73.37      |\n",
      "+-------------------------------------------------------------+-------+----------------------------------+----------------+\n"
     ]
    }
   ],
   "source": [
    "from tabulate import tabulate  # Import tabulate for better table display\n",
    "import pandas as pd\n",
    "\n",
    "# Function to get the top 10 similar anime with additional details\n",
    "def get_top_similar_anime_with_details(anime_name, cosine_sim_df, anime_filtered, top_n=10):\n",
    "    if anime_name not in cosine_sim_df.index:\n",
    "        raise ValueError(f\"The anime '{anime_name}' is not in the dataset.\")\n",
    "    \n",
    "    # Get similarity scores for the selected anime\n",
    "    similarity_scores = cosine_sim_df.loc[anime_name]\n",
    "    \n",
    "    # Sort scores in descending order (ignoring self-similarity)\n",
    "    top_similar = similarity_scores.sort_values(ascending=False)[1:top_n+1]\n",
    "    \n",
    "    # Retrieve additional details\n",
    "    details = anime_filtered.set_index('Name').loc[top_similar.index, ['Score', 'Genre_List']]\n",
    "    details['Similarity (%)'] = (top_similar.values * 100).round(2)\n",
    "    \n",
    "    # Reset index for clean formatting\n",
    "    result = details.reset_index().rename(columns={'Name': 'Anime Name'})\n",
    "    \n",
    "    # Print the DataFrame in table format\n",
    "    print(tabulate(result, headers='keys', tablefmt='pretty', showindex=False))\n",
    "    return result\n",
    "\n",
    "# Test with an example anime name\n",
    "anime_name_to_test = \"Steins;Gate\"  # Replace with your anime name\n",
    "try:\n",
    "    top_similar_anime_details = get_top_similar_anime_with_details(anime_name_to_test, cosine_sim_df, anime_filtered)\n",
    "except ValueError as e:\n",
    "    print(e)\n"
   ]
  },
  {
   "cell_type": "markdown",
   "metadata": {},
   "source": [
    "#### Why I Use Precision?"
   ]
  },
  {
   "cell_type": "markdown",
   "metadata": {},
   "source": [
    "**Precision = (Number of Relevant Recommendations) / (Total Number of Recommendations)**\n",
    "\n",
    "- Content-based filtering focuses on recommending items based on item features (e.g., genres, scores, etc). Precision ensures you are evaluating how effectively the system filters and recommends only relevant items.\n",
    "- Precision avoids penalizing models for not making enough recommendations, unlike recall."
   ]
  },
  {
   "cell_type": "code",
   "execution_count": 44,
   "metadata": {
    "execution": {
     "iopub.execute_input": "2024-12-18T03:24:25.191043Z",
     "iopub.status.busy": "2024-12-18T03:24:25.190212Z",
     "iopub.status.idle": "2024-12-18T03:24:25.200568Z",
     "shell.execute_reply": "2024-12-18T03:24:25.199628Z",
     "shell.execute_reply.started": "2024-12-18T03:24:25.191009Z"
    },
    "trusted": true
   },
   "outputs": [
    {
     "name": "stdout",
     "output_type": "stream",
     "text": [
      "Precision: 100.00%\n"
     ]
    }
   ],
   "source": [
    "# Function to calculate precision with additional genre considerations\n",
    "def calculate_precision_with_genre(recommended_anime_details, relevant_genres=None):\n",
    "    \"\"\"\n",
    "    Calculate precision for content-based recommendations with genre considerations.\n",
    "    \n",
    "    Parameters:\n",
    "    recommended_anime_details (pd.DataFrame): DataFrame of recommended anime with columns ['Anime Name', 'Score', 'Genre_List'].\n",
    "    relevant_genres (set): Set of genres considered relevant for the evaluation.\n",
    "    \n",
    "    Returns:\n",
    "    float: Precision score.\n",
    "    \"\"\"\n",
    "    if relevant_genres is None:\n",
    "        relevant_genres = set()  # Default to an empty set if not provided\n",
    "    \n",
    "    # Determine relevant recommendations based on genres\n",
    "    relevant_recommendations = recommended_anime_details[\n",
    "        (recommended_anime_details['Genre_List'].apply(lambda genres: any(genre in relevant_genres for genre in genres)))\n",
    "    ]\n",
    "    \n",
    "    relevant_count = len(relevant_recommendations)\n",
    "    total_recommendations = len(recommended_anime_details)\n",
    "    \n",
    "    # Avoid division by zero\n",
    "    if total_recommendations == 0:\n",
    "        return 0.0\n",
    "    \n",
    "    # Calculate precision\n",
    "    precision = (relevant_count / total_recommendations)* 100\n",
    "    return precision\n",
    "\n",
    "# Example usage\n",
    "\n",
    "# Simulated recommended anime details (e.g., from my recommendation system)\n",
    "recommended_anime_details = pd.DataFrame({\n",
    "    \"Anime Name\": [\n",
    "        \"Steins;Gate 0\", \n",
    "        \"Steins;Gate Movie: Fuka Ryouiki no Déjà vu\",\n",
    "        \"Steins;Gate: Kyoukaimenjou no Missing Link - Divide By Zero\",\n",
    "        \"Re:Zero kara Hajimeru Isekai Seikatsu 2nd Season\",\n",
    "        \"Re:Zero kara Hajimeru Isekai Seikatsu 2nd Season Part 2\", \n",
    "        \"Kono Yo no Hate de Koi wo Utau Shoujo YU-NO\",\n",
    "        \"Re:Zero kara Hajimeru Isekai Seikatsu\",\n",
    "        \"Island (TV)\",\n",
    "        \"Phantom: Requiem for the Phantom\",\n",
    "        \"Robotics;Notes\"\n",
    "    ],\n",
    "    \"Genre_List\": [\n",
    "        [\"Drama\", \"Sci-Fi\", \"Suspense\"], \n",
    "        [\"Drama\", \"Sci-Fi\"], \n",
    "        [\"Sci-Fi\", \"Suspense\"], \n",
    "        [\"Drama\", \"Fantasy\", \"Suspense\"], \n",
    "        [\"Drama\", \"Fantasy\", \"Suspense\"], \n",
    "        [\"Drama\", \"Sci-Fi\"], \n",
    "        [\"Drama\", \"Fantasy\", \"Suspense\"], \n",
    "        [\"Drama\", \"Sci-Fi\"], \n",
    "        [\"Action\", \"Drama\", \"Suspense\"], \n",
    "        [\"Drama\", \"Mystery\", \"Sci-Fi\"]\n",
    "    ]  # Example genres\n",
    "})\n",
    "\n",
    "# Define the relevance criteria\n",
    "relevant_genres = {\"Drama\", \"Sci-Fi\", \"Suspense\"}\n",
    "\n",
    "# Calculate precision with genre considerations\n",
    "precision = calculate_precision_with_genre(recommended_anime_details, relevant_genres)\n",
    "print(f\"Precision: {precision:.2f}%\")\n"
   ]
  },
  {
   "cell_type": "markdown",
   "metadata": {},
   "source": [
    "A precision of 100% indicates that my recommendation system performs well because all of the recommendations are considered relevant."
   ]
  },
  {
   "cell_type": "markdown",
   "metadata": {},
   "source": [
    "### Collaborative Filtering"
   ]
  },
  {
   "cell_type": "markdown",
   "metadata": {},
   "source": [
    "Metrics that I used:\n",
    "- **Loss (Mean Squared Error - MSE):**\n",
    "    - Definition: The Mean Squared Error (MSE) is a measure of the average squared difference between the predicted ratings and the true ratings.\n",
    "    - Formula: MSE = **Σ(y_true - y_pred)^2 / n**, where y_true are the true ratings, y_pred are the predicted ratings, and n is the number of samples.\n",
    "    - In the case of collaborative filtering, the ratings are usually on a numerical scale (e.g., 1-5 stars, 1-10 scores). This means that the model needs to predict a continuous rating value, that's why I pick MSE as the loss function.\n",
    "\n",
    "- **Mean Absolute Error (MAE):**\n",
    "   -  Definition: The Mean Absolute Error (MAE) is a measure of the average absolute difference between the predicted ratings and the true ratings.\n",
    "    - Formula: MAE = **Σ|y_true - y_pred| / n**, where y_true are the true ratings, y_pred are the predicted ratings, and n is the number of samples.\n",
    "    - MAE is more interpretable than MSE, as it represents the average rating prediction error. It's a useful metric for collaborative filtering as it directly relates to the quality of recommendations.\n",
    "\n",
    "- **Root Mean Squared Error (RMSE):**\n",
    "    - Definition: The Root Mean Squared Error (RMSE) is the square root of the Mean Squared Error (MSE).\n",
    "    - Formula: RMSE = **√(Σ(y_true - y_pred)^2 / n)**, where y_true are the true ratings, y_pred are the predicted ratings, and n is the number of samples.\n",
    "    - RMSE puts more emphasis on larger errors compared to MAE, making it more sensitive to outliers. It provides an interpretable scale (same as the rating scale) for understanding the model's predictive accuracy."
   ]
  },
  {
   "cell_type": "code",
   "execution_count": 45,
   "metadata": {
    "execution": {
     "iopub.execute_input": "2024-12-18T03:24:31.519669Z",
     "iopub.status.busy": "2024-12-18T03:24:31.519275Z",
     "iopub.status.idle": "2024-12-18T03:24:32.017504Z",
     "shell.execute_reply": "2024-12-18T03:24:32.016741Z",
     "shell.execute_reply.started": "2024-12-18T03:24:31.519637Z"
    },
    "trusted": true
   },
   "outputs": [
    {
     "data": {
      "image/png": "[encoded data removed]",
      "text/plain": [
       "<Figure size 640x480 with 1 Axes>"
      ]
     },
     "metadata": {},
     "output_type": "display_data"
    },
    {
     "data": {
      "image/png": "[encoded data removed]",
      "text/plain": [
       "<Figure size 640x480 with 1 Axes>"
      ]
     },
     "metadata": {},
     "output_type": "display_data"
    },
    {
     "data": {
      "image/png": "[encoded data removed]",
      "text/plain": [
       "<Figure size 640x480 with 1 Axes>"
      ]
     },
     "metadata": {},
     "output_type": "display_data"
    }
   ],
   "source": [
    "# Plot loss\n",
    "plt.plot(history.history['loss'], label='Training Loss')\n",
    "plt.plot(history.history['val_loss'], label='Validation Loss')\n",
    "plt.xlabel('Epochs')\n",
    "plt.ylabel('Loss')\n",
    "plt.legend()\n",
    "plt.title('Training and Validation Loss')\n",
    "plt.show()\n",
    "\n",
    "# Plot MAE\n",
    "plt.plot(history.history['mean_absolute_error'], label='Training MAE')\n",
    "plt.plot(history.history['val_mean_absolute_error'], label='Validation MAE')\n",
    "plt.xlabel('Epochs')\n",
    "plt.ylabel('Mean Absolute Error')\n",
    "plt.legend()\n",
    "plt.title('Training and Validation MAE')\n",
    "plt.show()\n",
    "\n",
    "# Plot RMSE\n",
    "plt.plot(history.history['root_mean_squared_error'], label='Training RMSE')\n",
    "plt.plot(history.history['val_root_mean_squared_error'], label='Validation RMSE')\n",
    "plt.xlabel('Epochs')\n",
    "plt.ylabel('RMSE')\n",
    "plt.legend()\n",
    "plt.title('Root Mean Squared Error Over Epochs')\n",
    "plt.show()\n"
   ]
  },
  {
   "cell_type": "markdown",
   "metadata": {},
   "source": [
    "Based on the images and model code, the model seems to be performing well in terms of both training and validation performance:\n",
    "- **Training and Validation Loss**:\n",
    "    - The training loss and validation loss both decrease over the epochs, indicating that the model is learning effectively and generalizing well to the validation data.\n",
    "    - The training loss and validation loss are close to each other, suggesting that the model is not overfitting to the training data.\n",
    "\n",
    "- **Training and Validation (MAE)**:\n",
    "    - The training Mean Absolute Error (MAE) and validation MAE both decrease over the epochs.\n",
    "    - The training MAE and validation MAE are also close to each other, further indicating that the model is not overfitting.\n",
    "\n",
    "- **Root Mean Squared Error (RMSE)**:\n",
    "    - The training RMSE and validation RMSE (orange line) both decrease over the epochs.\n",
    "    - The training RMSE and validation RMSE are close to each other, confirming the model's good generalization performance."
   ]
  },
  {
   "cell_type": "code",
   "execution_count": 46,
   "metadata": {
    "execution": {
     "iopub.execute_input": "2024-12-18T03:24:43.219969Z",
     "iopub.status.busy": "2024-12-18T03:24:43.219291Z",
     "iopub.status.idle": "2024-12-18T03:24:55.635500Z",
     "shell.execute_reply": "2024-12-18T03:24:55.634645Z",
     "shell.execute_reply.started": "2024-12-18T03:24:43.219936Z"
    },
    "trusted": true
   },
   "outputs": [
    {
     "name": "stdout",
     "output_type": "stream",
     "text": [
      "\u001b[1m9503/9503\u001b[0m \u001b[32m━━━━━━━━━━━━━━━━━━━━\u001b[0m\u001b[37m\u001b[0m \u001b[1m12s\u001b[0m 1ms/step - loss: 0.0161 - mean_absolute_error: 0.0945 - root_mean_squared_error: 0.1255\n",
      "Test Loss: 0.0161\n",
      "Test Mean Absolute Error: 0.0945\n",
      "Test Root Mean Squared Error: 0.1254\n"
     ]
    }
   ],
   "source": [
    "# Evaluate on the test dataset\n",
    "test_loss, test_mae, test_rmse = model.evaluate(test_ds)\n",
    "print(f\"Test Loss: {test_loss:.4f}\")\n",
    "print(f\"Test Mean Absolute Error: {test_mae:.4f}\")\n",
    "print(f\"Test Root Mean Squared Error: {test_rmse:.4f}\")\n"
   ]
  },
  {
   "cell_type": "markdown",
   "metadata": {},
   "source": [
    "- **Test Loss: 0.0161**\n",
    "    - The test loss represents the model's performance on the unseen test data.\n",
    "    - A low test loss, such as 0.0164, indicates that the model is making accurate predictions on the test set.\n",
    "\n",
    "- **Test Mean Absolute Error (MAE): 0.0945**\n",
    "    - The MAE measures the average absolute difference between the predicted and actual ratings.\n",
    "    - A low MAE, like 0.0946, suggests that the model's predictions are close to the true ratings on average.\n",
    "\n",
    "- **Test Root Mean Squared Error (RMSE): 0.1254**\n",
    "    - RMSE is the square root of the mean squared error (MSE), which measures the average squared difference between predicted and actual ratings.\n",
    "    - RMSE gives a higher penalty to larger errors compared to MAE, making it more sensitive to outliers.\n",
    "    - A low RMSE, such as 0.1265, indicates that the model is making accurate predictions with relatively small errors."
   ]
  },
  {
   "cell_type": "markdown",
   "metadata": {},
   "source": [
    "#### Prepare Data for Prediction"
   ]
  },
  {
   "cell_type": "code",
   "execution_count": 47,
   "metadata": {
    "execution": {
     "iopub.execute_input": "2024-12-18T03:25:14.655301Z",
     "iopub.status.busy": "2024-12-18T03:25:14.654511Z",
     "iopub.status.idle": "2024-12-18T03:25:14.808625Z",
     "shell.execute_reply": "2024-12-18T03:25:14.807770Z",
     "shell.execute_reply.started": "2024-12-18T03:25:14.655269Z"
    },
    "trusted": true
   },
   "outputs": [],
   "source": [
    "user_id = 1291085  # Replace with the target user_id\n",
    "anime_ids = user_rating['anime_id'].unique()  # All anime IDs in the dataset\n",
    "\n",
    "# Create a DataFrame with all possible (user_id, anime_id) pairs for this user\n",
    "user_anime_pairs = pd.DataFrame({'user_id': [user_id] * len(anime_ids), 'anime_id': anime_ids})\n"
   ]
  },
  {
   "cell_type": "markdown",
   "metadata": {},
   "source": [
    "#### Predict Ratings"
   ]
  },
  {
   "cell_type": "code",
   "execution_count": 48,
   "metadata": {
    "execution": {
     "iopub.execute_input": "2024-12-18T03:25:14.810583Z",
     "iopub.status.busy": "2024-12-18T03:25:14.810294Z",
     "iopub.status.idle": "2024-12-18T03:25:16.054095Z",
     "shell.execute_reply": "2024-12-18T03:25:16.053424Z",
     "shell.execute_reply.started": "2024-12-18T03:25:14.810559Z"
    },
    "trusted": true
   },
   "outputs": [
    {
     "name": "stdout",
     "output_type": "stream",
     "text": [
      "\u001b[1m516/516\u001b[0m \u001b[32m━━━━━━━━━━━━━━━━━━━━\u001b[0m\u001b[37m\u001b[0m \u001b[1m1s\u001b[0m 1ms/step\n"
     ]
    }
   ],
   "source": [
    "# Convert the DataFrame into TensorFlow-compatible format\n",
    "user_anime_tensor = {\n",
    "    'user_id': tf.constant(user_anime_pairs['user_id']),\n",
    "    'anime_id': tf.constant(user_anime_pairs['anime_id']),\n",
    "}\n",
    "\n",
    "# Predict ratings\n",
    "predicted_ratings = model.predict(user_anime_tensor)\n",
    "\n",
    "# Add predictions to the DataFrame\n",
    "user_anime_pairs['predicted_rating'] = predicted_ratings\n"
   ]
  },
  {
   "cell_type": "markdown",
   "metadata": {},
   "source": [
    "#### Merge with Anime Titles"
   ]
  },
  {
   "cell_type": "code",
   "execution_count": 49,
   "metadata": {
    "execution": {
     "iopub.execute_input": "2024-12-18T03:25:16.055336Z",
     "iopub.status.busy": "2024-12-18T03:25:16.055079Z",
     "iopub.status.idle": "2024-12-18T03:25:16.106628Z",
     "shell.execute_reply": "2024-12-18T03:25:16.105730Z",
     "shell.execute_reply.started": "2024-12-18T03:25:16.055311Z"
    },
    "trusted": true
   },
   "outputs": [],
   "source": [
    "\n",
    "# Merge recommendations with anime details to include Genre\n",
    "recommendations = user_anime_pairs.merge(\n",
    "    anime[['anime_id', 'Name', 'Genres']].drop_duplicates(),\n",
    "    on='anime_id',\n",
    "    how='left'\n",
    ")\n",
    "\n",
    "recommendations['predicted_rating'] = (recommendations['predicted_rating'] * 10).round()\n",
    "\n",
    "# Sort by predicted rating (descending) to show top recommendations\n",
    "recommendations = recommendations.sort_values(by='predicted_rating', ascending=False)\n",
    "\n",
    "# Identify watched anime for the specific user\n",
    "watched_anime = user_rating[user_rating['user_id'] == user_id].merge(\n",
    "    anime[['anime_id', 'Name', 'Genres']].drop_duplicates(),\n",
    "    on='anime_id',\n",
    "    how='left'\n",
    ")\n",
    "watched_anime = watched_anime.sort_values(by='rating', ascending=False)\n"
   ]
  },
  {
   "cell_type": "code",
   "execution_count": 50,
   "metadata": {
    "execution": {
     "iopub.execute_input": "2024-12-18T03:25:16.108087Z",
     "iopub.status.busy": "2024-12-18T03:25:16.107827Z",
     "iopub.status.idle": "2024-12-18T03:25:16.117717Z",
     "shell.execute_reply": "2024-12-18T03:25:16.115299Z",
     "shell.execute_reply.started": "2024-12-18T03:25:16.108062Z"
    },
    "trusted": true
   },
   "outputs": [
    {
     "name": "stdout",
     "output_type": "stream",
     "text": [
      "\n",
      "Top 20 Anime Rated by the User:\n",
      "+----------------------------------------------------------+----------------------------------------------+--------+\n",
      "|                           Name                           |                    Genres                    | rating |\n",
      "+----------------------------------------------------------+----------------------------------------------+--------+\n",
      "|               Yowamushi Pedal: Grande Road               |                    Sports                    |   10   |\n",
      "| Ano Hi Mita Hana no Namae wo Bokutachi wa Mada Shiranai. |             Drama, Supernatural              |   10   |\n",
      "|                   Ano Natsu de Matteru                   |            Drama, Romance, Sci-Fi            |   10   |\n",
      "|                   Clannad: After Story                   |         Drama, Romance, Supernatural         |   10   |\n",
      "|                        Haikyuu!!                         |                    Sports                    |   10   |\n",
      "|             Code Geass: Hangyaku no Lelouch              |     Action, Award Winning, Drama, Sci-Fi     |   10   |\n",
      "|            Code Geass: Hangyaku no Lelouch R2            |     Action, Award Winning, Drama, Sci-Fi     |   10   |\n",
      "|             Fullmetal Alchemist: Brotherhood             |      Action, Adventure, Drama, Fantasy       |   10   |\n",
      "|               Kuroko no Basket 2nd Season                |                    Sports                    |   10   |\n",
      "|                          K-On!                           |                    Comedy                    |   10   |\n",
      "|                          Hyouka                          |            Mystery, Slice of Life            |   10   |\n",
      "|              Suzumiya Haruhi no Shoushitsu               | Award Winning, Mystery, Sci-Fi, Supernatural |   10   |\n",
      "|                     Yowamushi Pedal                      |                    Sports                    |   10   |\n",
      "|                       Tokyo Ghoul                        |           Action, Fantasy, Horror            |   10   |\n",
      "|              Sen to Chihiro no Kamikakushi               |    Adventure, Award Winning, Supernatural    |   10   |\n",
      "|                     Kuroko no Basket                     |                    Sports                    |   10   |\n",
      "|                     Sword Art Online                     |     Action, Adventure, Fantasy, Romance      |   10   |\n",
      "|               Ookami Kodomo no Ame to Yuki               |    Award Winning, Fantasy, Slice of Life     |   9    |\n",
      "|                       Summer Wars                        |        Award Winning, Comedy, Sci-Fi         |   9    |\n",
      "|                        Toradora!                         |                Drama, Romance                |   9    |\n",
      "+----------------------------------------------------------+----------------------------------------------+--------+\n"
     ]
    }
   ],
   "source": [
    "from tabulate import tabulate  # Import tabulate for better table display\n",
    "\n",
    "# Display top 20 anime rated by the user\n",
    "top_watched_anime = watched_anime.head(20)\n",
    "\n",
    "# Select the required columns\n",
    "columns_to_display = ['Name', 'Genres', 'rating']\n",
    "\n",
    "# Print the DataFrame in a table format\n",
    "print(\"\\nTop 20 Anime Rated by the User:\")\n",
    "print(tabulate(top_watched_anime[columns_to_display], headers=columns_to_display, tablefmt='pretty', showindex=False))\n"
   ]
  },
  {
   "cell_type": "code",
   "execution_count": 51,
   "metadata": {
    "execution": {
     "iopub.execute_input": "2024-12-18T03:25:16.120503Z",
     "iopub.status.busy": "2024-12-18T03:25:16.119994Z",
     "iopub.status.idle": "2024-12-18T03:25:16.131761Z",
     "shell.execute_reply": "2024-12-18T03:25:16.130892Z",
     "shell.execute_reply.started": "2024-12-18T03:25:16.120460Z"
    },
    "trusted": true
   },
   "outputs": [
    {
     "name": "stdout",
     "output_type": "stream",
     "text": [
      "Top 10 Recommended Anime:\n",
      "+-------------------------------------------------------------------------------------------------+---------------------------------------+------------------+\n",
      "|                                              Name                                               |                Genres                 | predicted_rating |\n",
      "+-------------------------------------------------------------------------------------------------+---------------------------------------+------------------+\n",
      "|                                         Vampire Knight                                          | Drama, Mystery, Romance, Supernatural |       9.0        |\n",
      "|                                            Cambrian                                             |                Hentai                 |       9.0        |\n",
      "| Kochira Katsushikaku Kameari Kouenmae Hashutsujo The Movie 2: UFO Shuurai! Tornado Daisakusen!! |        Action, Comedy, Mystery        |       9.0        |\n",
      "|                                       Hime-chan no Ribbon                                       |       Comedy, Fantasy, Romance        |       9.0        |\n",
      "|                                    Onkyo Seimeitai Noiseman                                     |        Action, Fantasy, Sci-Fi        |       9.0        |\n",
      "|                                          Koutetsu Jeeg                                          |        Action, Fantasy, Sci-Fi        |       9.0        |\n",
      "|                              Ring ni Kakero 1: Nichibei Kessen-hen                              |            Action, Sports             |       9.0        |\n",
      "|                             School Days: Magical Heart Kokoro-chan                              |             Comedy, Ecchi             |       9.0        |\n",
      "|                                         Kanon Kazahana                                          |     Drama, Romance, Supernatural      |       9.0        |\n",
      "|                                   Mahou Shoujo Lyrical Nanoha                                   |         Action, Comedy, Drama         |       9.0        |\n",
      "+-------------------------------------------------------------------------------------------------+---------------------------------------+------------------+\n"
     ]
    }
   ],
   "source": [
    "from tabulate import tabulate  # Import tabulate for better table display\n",
    "\n",
    "# Display top 10 recommendations\n",
    "top_recommendations = recommendations.head(10)\n",
    "\n",
    "# Select the required columns\n",
    "columns_to_display = ['Name', 'Genres', 'predicted_rating']\n",
    "\n",
    "# Print the DataFrame in a table format\n",
    "print(\"Top 10 Recommended Anime:\")\n",
    "print(tabulate(top_recommendations[columns_to_display], headers=columns_to_display, tablefmt='pretty', showindex=False))\n"
   ]
  }
 ],
 "metadata": {
  "kaggle": {
   "accelerator": "gpu",
   "dataSources": [
    {
     "datasetId": 3384322,
     "sourceId": 6207733,
     "sourceType": "datasetVersion"
    }
   ],
   "dockerImageVersionId": 30805,
   "isGpuEnabled": true,
   "isInternetEnabled": true,
   "language": "python",
   "sourceType": "notebook"
  },
  "kernelspec": {
   "display_name": "Python 3",
   "language": "python",
   "name": "python3"
  },
  "language_info": {
   "codemirror_mode": {
    "name": "ipython",
    "version": 3
   },
   "file_extension": ".py",
   "mimetype": "text/x-python",
   "name": "python",
   "nbconvert_exporter": "python",
   "pygments_lexer": "ipython3",
   "version": "3.10.14"
  }
 },
 "nbformat": 4,
 "nbformat_minor": 4
}
